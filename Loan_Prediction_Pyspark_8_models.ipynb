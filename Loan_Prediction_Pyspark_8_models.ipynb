{
 "cells": [
  {
   "cell_type": "markdown",
   "metadata": {},
   "source": [
    "# Indice"
   ]
  },
  {
   "cell_type": "markdown",
   "metadata": {},
   "source": [
    "- [⚡ 0.- Introduccion](#0--introduccion)\n",
    "  - [0.1.- Composicion del repositorio](#01--composicion-del-repositorio)\n",
    "\n",
    "- [📦 1.- Instalar librerias necesarias](#1--instalar-librerias-necesarias)\n",
    "\n",
    "- [📥 2.- Iniciar sesion Spark, Carga de dataset e Informacion de dataset](#2--iniciar-sesion-spark-carga-de-dataset-e-informacion-de-dataset)\n",
    "  - [2.1.- Iniciar sesion Spark](#21--iniciar-sesion-spark)\n",
    "  - [2.2.- Carga de dataset](#22--carga-de-dataset)\n",
    "  - [2.3.- Informacion acerca del dataset](#23--informacion-acerca-del-dataset)\n",
    "\n",
    "- [🛠 3. Analisis de datos](#3--analisis-de-datos)\n",
    "  - [3.1.- Matriz de correlaciones (Matrix Correlation)](#31--matriz-de-correlaciones-matrix-correlation)\n",
    "  - [3.2.- Operaciones SQL](#32--operaciones-sql)\n",
    "\n",
    "- [🧹 4.- Limpieza de datos](#4--limpieza-de-datos)\n",
    "\n",
    "- [⚙️ 5.- Ingenieria de funciones](#5--ingenieria-de-funciones)\n",
    "\n",
    "- [📈 6.- Modelo 1: Logistic Regression (Machine Learning)](#6--modelo-1-logistic-regression-machine-learning)\n",
    "\n",
    "- [🌳 7.- Modelo 2: Random Forest (Machine Learning)](#7--modelo-2-random-forest-machine-learning)\n",
    "\n",
    "- [🚀 8.- Modelo 3: Gradient Boosting (Machine Learning)](#8--modelo-3-gradient-boosting-machine-learning)\n",
    "\n",
    "- [🔥 9.- Modelo 4: XGBoost (Machine Learning)](#9--modelo-4-xgboost-machine-learning)\n",
    "\n",
    "- [🧠 10. Modelo 5: Redes Neuronales Artificiales (ANN) (Deep Learning)](#10--modelo-5-redes-neuronales-artificiales-ann-deep-learning)\n",
    "\n",
    "- [🌌 11. Modelo 6: Redes Neuronales Profundas (DNN) (Deep Learning)](#11--modelo-6-redes-neuronales-profundas-dnn-deep-learning)\n",
    "\n",
    "- [📜 12. Modelo 7: Redes Neuronales Recurrentes (RNN) (Deep Learning)](#12--modelo-7-redes-neuronales-recurrentes-rnn-deep-learning)\n",
    "\n",
    "- [🌐 13. Modelo 8: Redes Neuronales Convolucionales (CNN) (Deep Learning)](#13--modelo-8-redes-neuronales-convolucionales-cnn-deep-learning)\n",
    "\n",
    "- [📊 14.- Comparacion de modelos](#14--comparacion-de-modelos)\n",
    "  - [Recomendaciones](#recomendaciones)\n",
    "  - [Conclusiones](#conclusiones)\n",
    "  - [Recomendaciones](#recomendaciones)"
   ]
  },
  {
   "cell_type": "markdown",
   "metadata": {},
   "source": [
    "# ⚡ 0.- Introduccion"
   ]
  },
  {
   "cell_type": "markdown",
   "metadata": {},
   "source": [
    "El objetivo de este proyecto es demostrar el uso de PySpark junto con 8 modelos de Machine Learning y Deep Learning para predecir la aprobación de préstamos. El proyecto incluirá los siguientes pasos:\n",
    "\n",
    "- 1- Extracción de datos: Recopilación de datos relacionados con la aprobación de préstamos, incluyendo características tales como ingresos, puntuación de crédito, importe del préstamo y estado del préstamo.\n",
    "\n",
    "- 2- Análisis de datos: Tras un análisis de datos, se ha realizado matriz de correlaciones y Operaciones de SQL.\n",
    "\n",
    "- 3- Limpieza y preaparación de datos: Garantizar que el conjunto de datos esté listo para su uso en algoritmos de Machine Learning y Deep Learning.\n",
    "\n",
    "- 4- Ingeniería de funciones o caracteríssticas (Features): Selección e ingeniería de características relevantes para mejorar la precisión del modelo.\n",
    "\n",
    "- 5- Elaboración de los 8 modelos: Estos modelos se van a entrenar y evaluar con el fin de generar predicciones de si un préstamos será aprobado o no basándose en las características de entrada o inputs.\n",
    "\n",
    "El resultado final será una comparación de los indicadores de los 8 modelos de que puede predecir con precisión la aprobación de préstamos basándose en varias características. \n",
    "El proyecto puede ampliarse explorando diferentes algoritmos y mejorando la precisión de modelos.\n",
    "\n",
    "El conjunto de datos se puede descargar del siguiente enlace:\n",
    "\n",
    "https://www.kaggle.com/datasets/altruistdelhite04/loan-prediction-problem-dataset\n",
    "\n"
   ]
  },
  {
   "cell_type": "markdown",
   "metadata": {},
   "source": [
    "## 0.1.- Composicion del repositorio\n",
    "\n",
    "Este repositorio está compuesto por los siguientes documentos:\n",
    "\n",
    "Documento principal (documento presente) en formato ipynb:\n",
    "\n",
    "- Loan_Prediction_Pyspark_8_models.ipynb\n",
    "\n",
    "Documentos dentro de Data en formato CSV:\n",
    "\n",
    "- Loan_Prediction_Dataset.csv\n",
    "\n",
    "Y por último, el README:\n",
    "\n",
    "\n"
   ]
  },
  {
   "cell_type": "markdown",
   "metadata": {},
   "source": [
    "# 📦 1.- Instalar librerias necesarias"
   ]
  },
  {
   "cell_type": "markdown",
   "metadata": {},
   "source": [
    "Importación de módulos de PySpark"
   ]
  },
  {
   "cell_type": "code",
   "execution_count": null,
   "metadata": {},
   "outputs": [],
   "source": [
    "import pyspark\n",
    "from pyspark.sql import SparkSession\n",
    "import pyspark.sql.functions as F\n",
    "import pyspark.sql as sparksql\n",
    "from pyspark.ml.feature import VectorAssembler, OneHotEncoder, StringIndexer, StandardScaler\n",
    "from pyspark.ml import Pipeline\n",
    "from pyspark.ml.classification import LogisticRegression, RandomForestClassifier, GBTClassifier, MultilayerPerceptronClassifier\n",
    "from pyspark.ml.evaluation import BinaryClassificationEvaluator, MulticlassClassificationEvaluator\n",
    "from pyspark.ml.tuning import ParamGridBuilder, CrossValidator"
   ]
  },
  {
   "cell_type": "markdown",
   "metadata": {},
   "source": [
    "Importación de módulos de visualización y análisis de datos"
   ]
  },
  {
   "cell_type": "code",
   "execution_count": null,
   "metadata": {},
   "outputs": [],
   "source": [
    "import pandas as pd\n",
    "import matplotlib.pyplot as plt\n",
    "import seaborn as sns\n",
    "import numpy as np"
   ]
  },
  {
   "cell_type": "markdown",
   "metadata": {},
   "source": [
    "Importación de módulos de scikit-learn para métricas"
   ]
  },
  {
   "cell_type": "code",
   "execution_count": null,
   "metadata": {},
   "outputs": [],
   "source": [
    "from sklearn.metrics import confusion_matrix, roc_curve, auc, accuracy_score, precision_score, recall_score, f1_score"
   ]
  },
  {
   "cell_type": "markdown",
   "metadata": {},
   "source": [
    "Importación del módulo XGBoost"
   ]
  },
  {
   "cell_type": "code",
   "execution_count": null,
   "metadata": {},
   "outputs": [],
   "source": [
    "import xgboost as xgb"
   ]
  },
  {
   "cell_type": "markdown",
   "metadata": {},
   "source": [
    "Aparte"
   ]
  },
  {
   "cell_type": "code",
   "execution_count": 6,
   "metadata": {},
   "outputs": [],
   "source": [
    "import warnings\n",
    "warnings.filterwarnings('ignore')"
   ]
  },
  {
   "cell_type": "code",
   "execution_count": 8,
   "metadata": {},
   "outputs": [],
   "source": [
    "import time"
   ]
  },
  {
   "cell_type": "code",
   "execution_count": 9,
   "metadata": {},
   "outputs": [],
   "source": [
    "start_time = time.time()"
   ]
  },
  {
   "cell_type": "markdown",
   "metadata": {},
   "source": [
    "# 📥 2.- Iniciar sesion Spark, Carga de dataset e Informacion de dataset"
   ]
  },
  {
   "cell_type": "markdown",
   "metadata": {},
   "source": [
    "## 2.1.- Iniciar sesion Spark"
   ]
  },
  {
   "cell_type": "code",
   "execution_count": 10,
   "metadata": {},
   "outputs": [],
   "source": [
    "spark = SparkSession.builder.appName('loan_prediction').getOrCreate()"
   ]
  },
  {
   "cell_type": "code",
   "execution_count": 11,
   "metadata": {},
   "outputs": [
    {
     "data": {
      "text/html": [
       "\n",
       "            <div>\n",
       "                <p><b>SparkSession - in-memory</b></p>\n",
       "                \n",
       "        <div>\n",
       "            <p><b>SparkContext</b></p>\n",
       "\n",
       "            <p><a href=\"http://DESKTOP-R8DGU5C:4040\">Spark UI</a></p>\n",
       "\n",
       "            <dl>\n",
       "              <dt>Version</dt>\n",
       "                <dd><code>v3.5.1</code></dd>\n",
       "              <dt>Master</dt>\n",
       "                <dd><code>local[*]</code></dd>\n",
       "              <dt>AppName</dt>\n",
       "                <dd><code>loan_prediction</code></dd>\n",
       "            </dl>\n",
       "        </div>\n",
       "        \n",
       "            </div>\n",
       "        "
      ],
      "text/plain": [
       "<pyspark.sql.session.SparkSession at 0x1cc72a23320>"
      ]
     },
     "execution_count": 11,
     "metadata": {},
     "output_type": "execute_result"
    }
   ],
   "source": [
    "spark"
   ]
  },
  {
   "cell_type": "markdown",
   "metadata": {},
   "source": [
    "## 2.2.- Carga de dataset"
   ]
  },
  {
   "cell_type": "markdown",
   "metadata": {},
   "source": [
    "El dataset proviene del siguiente link:\n",
    "\n",
    "https://www.kaggle.com/datasets/altruistdelhite04/loan-prediction-problem-dataset\n",
    "\n",
    "Viene bajo el siguiente nombre:\n",
    "\n",
    "test_Y3wMUE5_7gLdaTN.csv\n",
    "\n",
    "Cambiamos el nombre del dataset a:\n",
    "\n",
    "Loan_Prediction_Dataset.csv\n",
    "\n",
    "Lo metemos en la carpeta de \"Data\" de este repositorio"
   ]
  },
  {
   "cell_type": "code",
   "execution_count": 12,
   "metadata": {},
   "outputs": [],
   "source": [
    "dataset = spark.read.csv(\"./Data/Loan_Prediction_Dataset.csv\", header=True, sep=',', inferSchema=True)"
   ]
  },
  {
   "cell_type": "markdown",
   "metadata": {},
   "source": [
    "## 2.3.- Informacion acerca del dataset"
   ]
  },
  {
   "cell_type": "markdown",
   "metadata": {},
   "source": [
    "Número de filas del dataset"
   ]
  },
  {
   "cell_type": "code",
   "execution_count": 13,
   "metadata": {},
   "outputs": [
    {
     "data": {
      "text/plain": [
       "614"
      ]
     },
     "execution_count": 13,
     "metadata": {},
     "output_type": "execute_result"
    }
   ],
   "source": [
    "dataset.count()"
   ]
  },
  {
   "cell_type": "markdown",
   "metadata": {},
   "source": [
    "Número de columnas del dataset"
   ]
  },
  {
   "cell_type": "code",
   "execution_count": 14,
   "metadata": {},
   "outputs": [
    {
     "data": {
      "text/plain": [
       "13"
      ]
     },
     "execution_count": 14,
     "metadata": {},
     "output_type": "execute_result"
    }
   ],
   "source": [
    "len(dataset.columns)"
   ]
  },
  {
   "cell_type": "code",
   "execution_count": 15,
   "metadata": {},
   "outputs": [
    {
     "name": "stdout",
     "output_type": "stream",
     "text": [
      "+--------+------+-------+----------+------------+-------------+---------------+-----------------+----------+----------------+--------------+-------------+-----------+\n",
      "| Loan_ID|Gender|Married|Dependents|   Education|Self_Employed|ApplicantIncome|CoapplicantIncome|LoanAmount|Loan_Amount_Term|Credit_History|Property_Area|Loan_Status|\n",
      "+--------+------+-------+----------+------------+-------------+---------------+-----------------+----------+----------------+--------------+-------------+-----------+\n",
      "|LP001002|  Male|     No|         0|    Graduate|           No|           5849|              0.0|      NULL|             360|             1|        Urban|          Y|\n",
      "|LP001003|  Male|    Yes|         1|    Graduate|           No|           4583|           1508.0|       128|             360|             1|        Rural|          N|\n",
      "|LP001005|  Male|    Yes|         0|    Graduate|          Yes|           3000|              0.0|        66|             360|             1|        Urban|          Y|\n",
      "|LP001006|  Male|    Yes|         0|Not Graduate|           No|           2583|           2358.0|       120|             360|             1|        Urban|          Y|\n",
      "|LP001008|  Male|     No|         0|    Graduate|           No|           6000|              0.0|       141|             360|             1|        Urban|          Y|\n",
      "|LP001011|  Male|    Yes|         2|    Graduate|          Yes|           5417|           4196.0|       267|             360|             1|        Urban|          Y|\n",
      "|LP001013|  Male|    Yes|         0|Not Graduate|           No|           2333|           1516.0|        95|             360|             1|        Urban|          Y|\n",
      "|LP001014|  Male|    Yes|        3+|    Graduate|           No|           3036|           2504.0|       158|             360|             0|    Semiurban|          N|\n",
      "|LP001018|  Male|    Yes|         2|    Graduate|           No|           4006|           1526.0|       168|             360|             1|        Urban|          Y|\n",
      "|LP001020|  Male|    Yes|         1|    Graduate|           No|          12841|          10968.0|       349|             360|             1|    Semiurban|          N|\n",
      "+--------+------+-------+----------+------------+-------------+---------------+-----------------+----------+----------------+--------------+-------------+-----------+\n",
      "only showing top 10 rows\n",
      "\n"
     ]
    }
   ],
   "source": [
    "dataset.show(10)"
   ]
  },
  {
   "cell_type": "markdown",
   "metadata": {},
   "source": [
    "Esquema del DataFrame\n",
    "\n",
    "Muestra los nombres de las columnas y sus tipos de datos."
   ]
  },
  {
   "cell_type": "code",
   "execution_count": 16,
   "metadata": {},
   "outputs": [
    {
     "name": "stdout",
     "output_type": "stream",
     "text": [
      "root\n",
      " |-- Loan_ID: string (nullable = true)\n",
      " |-- Gender: string (nullable = true)\n",
      " |-- Married: string (nullable = true)\n",
      " |-- Dependents: string (nullable = true)\n",
      " |-- Education: string (nullable = true)\n",
      " |-- Self_Employed: string (nullable = true)\n",
      " |-- ApplicantIncome: integer (nullable = true)\n",
      " |-- CoapplicantIncome: double (nullable = true)\n",
      " |-- LoanAmount: integer (nullable = true)\n",
      " |-- Loan_Amount_Term: integer (nullable = true)\n",
      " |-- Credit_History: integer (nullable = true)\n",
      " |-- Property_Area: string (nullable = true)\n",
      " |-- Loan_Status: string (nullable = true)\n",
      "\n"
     ]
    }
   ],
   "source": [
    "dataset.printSchema()"
   ]
  },
  {
   "cell_type": "markdown",
   "metadata": {},
   "source": [
    "Lista de tuplas que contienen el nombre de las columnas y sus tipos de datos correspondientes"
   ]
  },
  {
   "cell_type": "code",
   "execution_count": 17,
   "metadata": {},
   "outputs": [
    {
     "data": {
      "text/plain": [
       "[('Loan_ID', 'string'),\n",
       " ('Gender', 'string'),\n",
       " ('Married', 'string'),\n",
       " ('Dependents', 'string'),\n",
       " ('Education', 'string'),\n",
       " ('Self_Employed', 'string'),\n",
       " ('ApplicantIncome', 'int'),\n",
       " ('CoapplicantIncome', 'double'),\n",
       " ('LoanAmount', 'int'),\n",
       " ('Loan_Amount_Term', 'int'),\n",
       " ('Credit_History', 'int'),\n",
       " ('Property_Area', 'string'),\n",
       " ('Loan_Status', 'string')]"
      ]
     },
     "execution_count": 17,
     "metadata": {},
     "output_type": "execute_result"
    }
   ],
   "source": [
    "dataset.dtypes"
   ]
  },
  {
   "cell_type": "markdown",
   "metadata": {},
   "source": [
    "Estructura del DataFrame\n",
    "\n",
    "Muestra un resumen de las columnas, su tipo de datos y si contienen nulos."
   ]
  },
  {
   "cell_type": "code",
   "execution_count": 18,
   "metadata": {},
   "outputs": [
    {
     "name": "stdout",
     "output_type": "stream",
     "text": [
      "+-------+--------+------+-------+------------------+------------+-------------+-----------------+------------------+------------------+-----------------+------------------+-------------+-----------+\n",
      "|summary| Loan_ID|Gender|Married|        Dependents|   Education|Self_Employed|  ApplicantIncome| CoapplicantIncome|        LoanAmount| Loan_Amount_Term|    Credit_History|Property_Area|Loan_Status|\n",
      "+-------+--------+------+-------+------------------+------------+-------------+-----------------+------------------+------------------+-----------------+------------------+-------------+-----------+\n",
      "|  count|     614|   601|    611|               599|         614|          582|              614|               614|               592|              600|               564|          614|        614|\n",
      "|   mean|    NULL|  NULL|   NULL|0.5547445255474452|        NULL|         NULL|5403.459283387622| 1621.245798027101|146.41216216216216|            342.0|0.8421985815602837|         NULL|       NULL|\n",
      "| stddev|    NULL|  NULL|   NULL|0.7853289861674311|        NULL|         NULL|6109.041673387181|2926.2483692241894| 85.58732523570545|65.12040985461255|0.3648783192364052|         NULL|       NULL|\n",
      "|    min|LP001002|Female|     No|                 0|    Graduate|           No|              150|               0.0|                 9|               12|                 0|        Rural|          N|\n",
      "|    25%|    NULL|  NULL|   NULL|               0.0|        NULL|         NULL|             2876|               0.0|               100|              360|                 1|         NULL|       NULL|\n",
      "|    50%|    NULL|  NULL|   NULL|               0.0|        NULL|         NULL|             3812|            1167.0|               128|              360|                 1|         NULL|       NULL|\n",
      "|    75%|    NULL|  NULL|   NULL|               1.0|        NULL|         NULL|             5800|            2302.0|               168|              360|                 1|         NULL|       NULL|\n",
      "|    max|LP002990|  Male|    Yes|                3+|Not Graduate|          Yes|            81000|           41667.0|               700|              480|                 1|        Urban|          Y|\n",
      "+-------+--------+------+-------+------------------+------------+-------------+-----------------+------------------+------------------+-----------------+------------------+-------------+-----------+\n",
      "\n"
     ]
    }
   ],
   "source": [
    "dataset.summary().show()"
   ]
  },
  {
   "cell_type": "markdown",
   "metadata": {},
   "source": [
    "Resumen estadístico\n",
    "\n",
    "Puedes obtener un resumen estadístico de las columnas numéricas del DataFrame."
   ]
  },
  {
   "cell_type": "code",
   "execution_count": 19,
   "metadata": {},
   "outputs": [
    {
     "name": "stdout",
     "output_type": "stream",
     "text": [
      "+-------+--------+------+-------+------------------+------------+-------------+-----------------+------------------+------------------+-----------------+------------------+-------------+-----------+\n",
      "|summary| Loan_ID|Gender|Married|        Dependents|   Education|Self_Employed|  ApplicantIncome| CoapplicantIncome|        LoanAmount| Loan_Amount_Term|    Credit_History|Property_Area|Loan_Status|\n",
      "+-------+--------+------+-------+------------------+------------+-------------+-----------------+------------------+------------------+-----------------+------------------+-------------+-----------+\n",
      "|  count|     614|   601|    611|               599|         614|          582|              614|               614|               592|              600|               564|          614|        614|\n",
      "|   mean|    NULL|  NULL|   NULL|0.5547445255474452|        NULL|         NULL|5403.459283387622| 1621.245798027101|146.41216216216216|            342.0|0.8421985815602837|         NULL|       NULL|\n",
      "| stddev|    NULL|  NULL|   NULL|0.7853289861674311|        NULL|         NULL|6109.041673387181|2926.2483692241894| 85.58732523570545|65.12040985461255|0.3648783192364052|         NULL|       NULL|\n",
      "|    min|LP001002|Female|     No|                 0|    Graduate|           No|              150|               0.0|                 9|               12|                 0|        Rural|          N|\n",
      "|    max|LP002990|  Male|    Yes|                3+|Not Graduate|          Yes|            81000|           41667.0|               700|              480|                 1|        Urban|          Y|\n",
      "+-------+--------+------+-------+------------------+------------+-------------+-----------------+------------------+------------------+-----------------+------------------+-------------+-----------+\n",
      "\n"
     ]
    }
   ],
   "source": [
    "dataset.describe().show()"
   ]
  },
  {
   "cell_type": "markdown",
   "metadata": {},
   "source": [
    "Convertir de dataframe Spark a dataframe pandas"
   ]
  },
  {
   "cell_type": "code",
   "execution_count": 20,
   "metadata": {},
   "outputs": [],
   "source": [
    "dataset_pandas = dataset.toPandas()"
   ]
  },
  {
   "cell_type": "markdown",
   "metadata": {},
   "source": [
    "Se recomienda abrir con la extensión Data Wrangler"
   ]
  },
  {
   "cell_type": "code",
   "execution_count": 21,
   "metadata": {},
   "outputs": [
    {
     "data": {
      "text/html": [
       "<div>\n",
       "<style scoped>\n",
       "    .dataframe tbody tr th:only-of-type {\n",
       "        vertical-align: middle;\n",
       "    }\n",
       "\n",
       "    .dataframe tbody tr th {\n",
       "        vertical-align: top;\n",
       "    }\n",
       "\n",
       "    .dataframe thead th {\n",
       "        text-align: right;\n",
       "    }\n",
       "</style>\n",
       "<table border=\"1\" class=\"dataframe\">\n",
       "  <thead>\n",
       "    <tr style=\"text-align: right;\">\n",
       "      <th></th>\n",
       "      <th>Loan_ID</th>\n",
       "      <th>Gender</th>\n",
       "      <th>Married</th>\n",
       "      <th>Dependents</th>\n",
       "      <th>Education</th>\n",
       "      <th>Self_Employed</th>\n",
       "      <th>ApplicantIncome</th>\n",
       "      <th>CoapplicantIncome</th>\n",
       "      <th>LoanAmount</th>\n",
       "      <th>Loan_Amount_Term</th>\n",
       "      <th>Credit_History</th>\n",
       "      <th>Property_Area</th>\n",
       "      <th>Loan_Status</th>\n",
       "    </tr>\n",
       "  </thead>\n",
       "  <tbody>\n",
       "    <tr>\n",
       "      <th>0</th>\n",
       "      <td>LP001002</td>\n",
       "      <td>Male</td>\n",
       "      <td>No</td>\n",
       "      <td>0</td>\n",
       "      <td>Graduate</td>\n",
       "      <td>No</td>\n",
       "      <td>5849</td>\n",
       "      <td>0.0</td>\n",
       "      <td>NaN</td>\n",
       "      <td>360.0</td>\n",
       "      <td>1.0</td>\n",
       "      <td>Urban</td>\n",
       "      <td>Y</td>\n",
       "    </tr>\n",
       "    <tr>\n",
       "      <th>1</th>\n",
       "      <td>LP001003</td>\n",
       "      <td>Male</td>\n",
       "      <td>Yes</td>\n",
       "      <td>1</td>\n",
       "      <td>Graduate</td>\n",
       "      <td>No</td>\n",
       "      <td>4583</td>\n",
       "      <td>1508.0</td>\n",
       "      <td>128.0</td>\n",
       "      <td>360.0</td>\n",
       "      <td>1.0</td>\n",
       "      <td>Rural</td>\n",
       "      <td>N</td>\n",
       "    </tr>\n",
       "    <tr>\n",
       "      <th>2</th>\n",
       "      <td>LP001005</td>\n",
       "      <td>Male</td>\n",
       "      <td>Yes</td>\n",
       "      <td>0</td>\n",
       "      <td>Graduate</td>\n",
       "      <td>Yes</td>\n",
       "      <td>3000</td>\n",
       "      <td>0.0</td>\n",
       "      <td>66.0</td>\n",
       "      <td>360.0</td>\n",
       "      <td>1.0</td>\n",
       "      <td>Urban</td>\n",
       "      <td>Y</td>\n",
       "    </tr>\n",
       "    <tr>\n",
       "      <th>3</th>\n",
       "      <td>LP001006</td>\n",
       "      <td>Male</td>\n",
       "      <td>Yes</td>\n",
       "      <td>0</td>\n",
       "      <td>Not Graduate</td>\n",
       "      <td>No</td>\n",
       "      <td>2583</td>\n",
       "      <td>2358.0</td>\n",
       "      <td>120.0</td>\n",
       "      <td>360.0</td>\n",
       "      <td>1.0</td>\n",
       "      <td>Urban</td>\n",
       "      <td>Y</td>\n",
       "    </tr>\n",
       "    <tr>\n",
       "      <th>4</th>\n",
       "      <td>LP001008</td>\n",
       "      <td>Male</td>\n",
       "      <td>No</td>\n",
       "      <td>0</td>\n",
       "      <td>Graduate</td>\n",
       "      <td>No</td>\n",
       "      <td>6000</td>\n",
       "      <td>0.0</td>\n",
       "      <td>141.0</td>\n",
       "      <td>360.0</td>\n",
       "      <td>1.0</td>\n",
       "      <td>Urban</td>\n",
       "      <td>Y</td>\n",
       "    </tr>\n",
       "    <tr>\n",
       "      <th>...</th>\n",
       "      <td>...</td>\n",
       "      <td>...</td>\n",
       "      <td>...</td>\n",
       "      <td>...</td>\n",
       "      <td>...</td>\n",
       "      <td>...</td>\n",
       "      <td>...</td>\n",
       "      <td>...</td>\n",
       "      <td>...</td>\n",
       "      <td>...</td>\n",
       "      <td>...</td>\n",
       "      <td>...</td>\n",
       "      <td>...</td>\n",
       "    </tr>\n",
       "    <tr>\n",
       "      <th>609</th>\n",
       "      <td>LP002978</td>\n",
       "      <td>Female</td>\n",
       "      <td>No</td>\n",
       "      <td>0</td>\n",
       "      <td>Graduate</td>\n",
       "      <td>No</td>\n",
       "      <td>2900</td>\n",
       "      <td>0.0</td>\n",
       "      <td>71.0</td>\n",
       "      <td>360.0</td>\n",
       "      <td>1.0</td>\n",
       "      <td>Rural</td>\n",
       "      <td>Y</td>\n",
       "    </tr>\n",
       "    <tr>\n",
       "      <th>610</th>\n",
       "      <td>LP002979</td>\n",
       "      <td>Male</td>\n",
       "      <td>Yes</td>\n",
       "      <td>3+</td>\n",
       "      <td>Graduate</td>\n",
       "      <td>No</td>\n",
       "      <td>4106</td>\n",
       "      <td>0.0</td>\n",
       "      <td>40.0</td>\n",
       "      <td>180.0</td>\n",
       "      <td>1.0</td>\n",
       "      <td>Rural</td>\n",
       "      <td>Y</td>\n",
       "    </tr>\n",
       "    <tr>\n",
       "      <th>611</th>\n",
       "      <td>LP002983</td>\n",
       "      <td>Male</td>\n",
       "      <td>Yes</td>\n",
       "      <td>1</td>\n",
       "      <td>Graduate</td>\n",
       "      <td>No</td>\n",
       "      <td>8072</td>\n",
       "      <td>240.0</td>\n",
       "      <td>253.0</td>\n",
       "      <td>360.0</td>\n",
       "      <td>1.0</td>\n",
       "      <td>Urban</td>\n",
       "      <td>Y</td>\n",
       "    </tr>\n",
       "    <tr>\n",
       "      <th>612</th>\n",
       "      <td>LP002984</td>\n",
       "      <td>Male</td>\n",
       "      <td>Yes</td>\n",
       "      <td>2</td>\n",
       "      <td>Graduate</td>\n",
       "      <td>No</td>\n",
       "      <td>7583</td>\n",
       "      <td>0.0</td>\n",
       "      <td>187.0</td>\n",
       "      <td>360.0</td>\n",
       "      <td>1.0</td>\n",
       "      <td>Urban</td>\n",
       "      <td>Y</td>\n",
       "    </tr>\n",
       "    <tr>\n",
       "      <th>613</th>\n",
       "      <td>LP002990</td>\n",
       "      <td>Female</td>\n",
       "      <td>No</td>\n",
       "      <td>0</td>\n",
       "      <td>Graduate</td>\n",
       "      <td>Yes</td>\n",
       "      <td>4583</td>\n",
       "      <td>0.0</td>\n",
       "      <td>133.0</td>\n",
       "      <td>360.0</td>\n",
       "      <td>0.0</td>\n",
       "      <td>Semiurban</td>\n",
       "      <td>N</td>\n",
       "    </tr>\n",
       "  </tbody>\n",
       "</table>\n",
       "<p>614 rows × 13 columns</p>\n",
       "</div>"
      ],
      "text/plain": [
       "      Loan_ID  Gender Married Dependents     Education Self_Employed  \\\n",
       "0    LP001002    Male      No          0      Graduate            No   \n",
       "1    LP001003    Male     Yes          1      Graduate            No   \n",
       "2    LP001005    Male     Yes          0      Graduate           Yes   \n",
       "3    LP001006    Male     Yes          0  Not Graduate            No   \n",
       "4    LP001008    Male      No          0      Graduate            No   \n",
       "..        ...     ...     ...        ...           ...           ...   \n",
       "609  LP002978  Female      No          0      Graduate            No   \n",
       "610  LP002979    Male     Yes         3+      Graduate            No   \n",
       "611  LP002983    Male     Yes          1      Graduate            No   \n",
       "612  LP002984    Male     Yes          2      Graduate            No   \n",
       "613  LP002990  Female      No          0      Graduate           Yes   \n",
       "\n",
       "     ApplicantIncome  CoapplicantIncome  LoanAmount  Loan_Amount_Term  \\\n",
       "0               5849                0.0         NaN             360.0   \n",
       "1               4583             1508.0       128.0             360.0   \n",
       "2               3000                0.0        66.0             360.0   \n",
       "3               2583             2358.0       120.0             360.0   \n",
       "4               6000                0.0       141.0             360.0   \n",
       "..               ...                ...         ...               ...   \n",
       "609             2900                0.0        71.0             360.0   \n",
       "610             4106                0.0        40.0             180.0   \n",
       "611             8072              240.0       253.0             360.0   \n",
       "612             7583                0.0       187.0             360.0   \n",
       "613             4583                0.0       133.0             360.0   \n",
       "\n",
       "     Credit_History Property_Area Loan_Status  \n",
       "0               1.0         Urban           Y  \n",
       "1               1.0         Rural           N  \n",
       "2               1.0         Urban           Y  \n",
       "3               1.0         Urban           Y  \n",
       "4               1.0         Urban           Y  \n",
       "..              ...           ...         ...  \n",
       "609             1.0         Rural           Y  \n",
       "610             1.0         Rural           Y  \n",
       "611             1.0         Urban           Y  \n",
       "612             1.0         Urban           Y  \n",
       "613             0.0     Semiurban           N  \n",
       "\n",
       "[614 rows x 13 columns]"
      ]
     },
     "execution_count": 21,
     "metadata": {},
     "output_type": "execute_result"
    }
   ],
   "source": [
    "dataset_pandas"
   ]
  },
  {
   "cell_type": "markdown",
   "metadata": {},
   "source": [
    "# 🛠  3. Analisis de datos"
   ]
  },
  {
   "cell_type": "markdown",
   "metadata": {},
   "source": [
    "visualización de count basado en loan status"
   ]
  },
  {
   "cell_type": "code",
   "execution_count": 22,
   "metadata": {},
   "outputs": [
    {
     "name": "stdout",
     "output_type": "stream",
     "text": [
      "+-----------+-----+\n",
      "|Loan_Status|count|\n",
      "+-----------+-----+\n",
      "|          Y|  422|\n",
      "|          N|  192|\n",
      "+-----------+-----+\n",
      "\n"
     ]
    }
   ],
   "source": [
    "dataset.groupBy('Loan_Status').count().show()"
   ]
  },
  {
   "cell_type": "code",
   "execution_count": 23,
   "metadata": {},
   "outputs": [
    {
     "name": "stdout",
     "output_type": "stream",
     "text": [
      "+-----------+-------------------+\n",
      "|Loan_Status|avg(Credit_History)|\n",
      "+-----------+-------------------+\n",
      "|          Y| 0.9818181818181818|\n",
      "|          N| 0.5418994413407822|\n",
      "+-----------+-------------------+\n",
      "\n"
     ]
    }
   ],
   "source": [
    "dataset.select(\"Credit_History\", \"Loan_Status\").groupBy('Loan_Status').agg(F.avg('Credit_History')).show()"
   ]
  },
  {
   "cell_type": "code",
   "execution_count": 24,
   "metadata": {},
   "outputs": [
    {
     "name": "stdout",
     "output_type": "stream",
     "text": [
      "+-----------+------+-----+\n",
      "|Loan_Status|Gender|count|\n",
      "+-----------+------+-----+\n",
      "|          N|Female|   37|\n",
      "|          Y|  NULL|    8|\n",
      "|          Y|Female|   75|\n",
      "|          N|  NULL|    5|\n",
      "|          Y|  Male|  339|\n",
      "|          N|  Male|  150|\n",
      "+-----------+------+-----+\n",
      "\n"
     ]
    }
   ],
   "source": [
    "dataset.select('Gender', 'Loan_Status').groupBy('Loan_Status', 'Gender').count().show()"
   ]
  },
  {
   "cell_type": "markdown",
   "metadata": {},
   "source": [
    "## 3.1.- Matriz de correlaciones (Matrix Correlation)"
   ]
  },
  {
   "cell_type": "code",
   "execution_count": 26,
   "metadata": {},
   "outputs": [
    {
     "data": {
      "text/html": [
       "<div>\n",
       "<style scoped>\n",
       "    .dataframe tbody tr th:only-of-type {\n",
       "        vertical-align: middle;\n",
       "    }\n",
       "\n",
       "    .dataframe tbody tr th {\n",
       "        vertical-align: top;\n",
       "    }\n",
       "\n",
       "    .dataframe thead th {\n",
       "        text-align: right;\n",
       "    }\n",
       "</style>\n",
       "<table border=\"1\" class=\"dataframe\">\n",
       "  <thead>\n",
       "    <tr style=\"text-align: right;\">\n",
       "      <th></th>\n",
       "      <th>ApplicantIncome</th>\n",
       "      <th>CoapplicantIncome</th>\n",
       "      <th>LoanAmount</th>\n",
       "      <th>Loan_Amount_Term</th>\n",
       "      <th>Credit_History</th>\n",
       "    </tr>\n",
       "    <tr>\n",
       "      <th></th>\n",
       "      <th></th>\n",
       "      <th></th>\n",
       "      <th></th>\n",
       "      <th></th>\n",
       "      <th></th>\n",
       "    </tr>\n",
       "  </thead>\n",
       "  <tbody>\n",
       "    <tr>\n",
       "      <th>ApplicantIncome</th>\n",
       "      <td>1.00</td>\n",
       "      <td>-0.12</td>\n",
       "      <td>0.54</td>\n",
       "      <td>-0.02</td>\n",
       "      <td>0.01</td>\n",
       "    </tr>\n",
       "    <tr>\n",
       "      <th>CoapplicantIncome</th>\n",
       "      <td>-0.12</td>\n",
       "      <td>1.00</td>\n",
       "      <td>0.19</td>\n",
       "      <td>-0.05</td>\n",
       "      <td>-0.06</td>\n",
       "    </tr>\n",
       "    <tr>\n",
       "      <th>LoanAmount</th>\n",
       "      <td>0.54</td>\n",
       "      <td>0.19</td>\n",
       "      <td>1.00</td>\n",
       "      <td>0.06</td>\n",
       "      <td>-0.03</td>\n",
       "    </tr>\n",
       "    <tr>\n",
       "      <th>Loan_Amount_Term</th>\n",
       "      <td>-0.02</td>\n",
       "      <td>-0.05</td>\n",
       "      <td>0.06</td>\n",
       "      <td>1.00</td>\n",
       "      <td>0.05</td>\n",
       "    </tr>\n",
       "    <tr>\n",
       "      <th>Credit_History</th>\n",
       "      <td>0.01</td>\n",
       "      <td>-0.06</td>\n",
       "      <td>-0.03</td>\n",
       "      <td>0.05</td>\n",
       "      <td>1.00</td>\n",
       "    </tr>\n",
       "  </tbody>\n",
       "</table>\n",
       "</div>"
      ],
      "text/plain": [
       "                   ApplicantIncome  CoapplicantIncome  LoanAmount  \\\n",
       "                                                                    \n",
       "ApplicantIncome               1.00              -0.12        0.54   \n",
       "CoapplicantIncome            -0.12               1.00        0.19   \n",
       "LoanAmount                    0.54               0.19        1.00   \n",
       "Loan_Amount_Term             -0.02              -0.05        0.06   \n",
       "Credit_History                0.01              -0.06       -0.03   \n",
       "\n",
       "                   Loan_Amount_Term  Credit_History  \n",
       "                                                     \n",
       "ApplicantIncome               -0.02            0.01  \n",
       "CoapplicantIncome             -0.05           -0.06  \n",
       "LoanAmount                     0.06           -0.03  \n",
       "Loan_Amount_Term               1.00            0.05  \n",
       "Credit_History                 0.05            1.00  "
      ]
     },
     "execution_count": 26,
     "metadata": {},
     "output_type": "execute_result"
    }
   ],
   "source": [
    "columns = ['ApplicantIncome', 'CoapplicantIncome', 'LoanAmount', 'Loan_Amount_Term', 'Credit_History']\n",
    "\n",
    "corr_dataset = pd.DataFrame()\n",
    "for i in columns:\n",
    "    corr = []\n",
    "    for j in columns:\n",
    "        corr.append(round(dataset.stat.corr(i, j), 2))\n",
    "    corr_dataset = pd.concat([corr_dataset, pd.Series(corr)], axis=1)\n",
    "\n",
    "corr_dataset.columns = columns\n",
    "corr_dataset.insert(0, '', columns)\n",
    "corr_dataset.set_index('')"
   ]
  },
  {
   "cell_type": "markdown",
   "metadata": {},
   "source": [
    "Convertir la matriz a formato adecuado para heatmap"
   ]
  },
  {
   "cell_type": "code",
   "execution_count": 27,
   "metadata": {},
   "outputs": [],
   "source": [
    "corr_matrix = corr_dataset.set_index('').astype(float)"
   ]
  },
  {
   "cell_type": "code",
   "execution_count": 28,
   "metadata": {},
   "outputs": [
    {
     "data": {
      "image/png": "[encoded data removed]",
      "text/plain": [
       "<Figure size 1200x800 with 2 Axes>"
      ]
     },
     "metadata": {},
     "output_type": "display_data"
    }
   ],
   "source": [
    "plt.figure(figsize=(12, 8))\n",
    "sns.heatmap(corr_matrix, annot=True, cmap='viridis', linewidths=.5, fmt='.2f')\n",
    "plt.title('Matriz de Correlación')\n",
    "plt.show()"
   ]
  },
  {
   "cell_type": "markdown",
   "metadata": {},
   "source": [
    "## 3.2.- Operaciones SQL"
   ]
  },
  {
   "cell_type": "markdown",
   "metadata": {},
   "source": [
    "En esta sección, se van a plantear unas consultas SQL:"
   ]
  },
  {
   "cell_type": "code",
   "execution_count": 30,
   "metadata": {},
   "outputs": [],
   "source": [
    "dataset.createOrReplaceTempView('table')"
   ]
  },
  {
   "cell_type": "markdown",
   "metadata": {},
   "source": [
    "mostrar las filas superiores de table"
   ]
  },
  {
   "cell_type": "code",
   "execution_count": 31,
   "metadata": {},
   "outputs": [
    {
     "name": "stdout",
     "output_type": "stream",
     "text": [
      "+--------+------+-------+----------+------------+-------------+---------------+-----------------+----------+----------------+--------------+-------------+-----------+\n",
      "| Loan_ID|Gender|Married|Dependents|   Education|Self_Employed|ApplicantIncome|CoapplicantIncome|LoanAmount|Loan_Amount_Term|Credit_History|Property_Area|Loan_Status|\n",
      "+--------+------+-------+----------+------------+-------------+---------------+-----------------+----------+----------------+--------------+-------------+-----------+\n",
      "|LP001002|  Male|     No|         0|    Graduate|           No|           5849|              0.0|      NULL|             360|             1|        Urban|          Y|\n",
      "|LP001003|  Male|    Yes|         1|    Graduate|           No|           4583|           1508.0|       128|             360|             1|        Rural|          N|\n",
      "|LP001005|  Male|    Yes|         0|    Graduate|          Yes|           3000|              0.0|        66|             360|             1|        Urban|          Y|\n",
      "|LP001006|  Male|    Yes|         0|Not Graduate|           No|           2583|           2358.0|       120|             360|             1|        Urban|          Y|\n",
      "|LP001008|  Male|     No|         0|    Graduate|           No|           6000|              0.0|       141|             360|             1|        Urban|          Y|\n",
      "+--------+------+-------+----------+------------+-------------+---------------+-----------------+----------+----------------+--------------+-------------+-----------+\n",
      "\n"
     ]
    }
   ],
   "source": [
    "spark.sql(\"select * from table limit 5\").show()"
   ]
  },
  {
   "cell_type": "markdown",
   "metadata": {},
   "source": [
    "Selecciona todas las filas del DataFrame temporal table donde la columna Credit_History es igual a 1"
   ]
  },
  {
   "cell_type": "code",
   "execution_count": 32,
   "metadata": {},
   "outputs": [
    {
     "name": "stdout",
     "output_type": "stream",
     "text": [
      "+--------+\n",
      "| Loan_ID|\n",
      "+--------+\n",
      "|LP001002|\n",
      "|LP001003|\n",
      "|LP001005|\n",
      "|LP001006|\n",
      "|LP001008|\n",
      "|LP001011|\n",
      "|LP001013|\n",
      "|LP001018|\n",
      "|LP001020|\n",
      "|LP001024|\n",
      "|LP001027|\n",
      "|LP001028|\n",
      "|LP001029|\n",
      "|LP001030|\n",
      "|LP001032|\n",
      "|LP001038|\n",
      "|LP001041|\n",
      "|LP001046|\n",
      "|LP001066|\n",
      "|LP001068|\n",
      "+--------+\n",
      "only showing top 20 rows\n",
      "\n"
     ]
    }
   ],
   "source": [
    "spark.sql('select Loan_ID from table where Credit_History=1').show()"
   ]
  },
  {
   "cell_type": "markdown",
   "metadata": {},
   "source": [
    "Promedio de ingresos del solicitante por área de la propiedad:"
   ]
  },
  {
   "cell_type": "code",
   "execution_count": 33,
   "metadata": {},
   "outputs": [
    {
     "name": "stdout",
     "output_type": "stream",
     "text": [
      "+-------------+-------------------+\n",
      "|Property_Area|Avg_ApplicantIncome|\n",
      "+-------------+-------------------+\n",
      "|        Urban|  5398.247524752475|\n",
      "|    Semiurban|  5292.261802575107|\n",
      "|        Rural|  5554.083798882682|\n",
      "+-------------+-------------------+\n",
      "\n"
     ]
    }
   ],
   "source": [
    "spark.sql(\"\"\"\n",
    "    SELECT Property_Area, AVG(ApplicantIncome) as Avg_ApplicantIncome\n",
    "    FROM table\n",
    "    GROUP BY Property_Area\n",
    "\"\"\").show()"
   ]
  },
  {
   "cell_type": "markdown",
   "metadata": {},
   "source": [
    "Cantidad de préstamos aprobados y rechazados por género:"
   ]
  },
  {
   "cell_type": "code",
   "execution_count": 34,
   "metadata": {},
   "outputs": [
    {
     "name": "stdout",
     "output_type": "stream",
     "text": [
      "+------+-----------+-----+\n",
      "|Gender|Loan_Status|Count|\n",
      "+------+-----------+-----+\n",
      "|Female|          N|   37|\n",
      "|  Male|          Y|  339|\n",
      "|  NULL|          Y|    8|\n",
      "|  NULL|          N|    5|\n",
      "|  Male|          N|  150|\n",
      "|Female|          Y|   75|\n",
      "+------+-----------+-----+\n",
      "\n"
     ]
    }
   ],
   "source": [
    "spark.sql(\"\"\"\n",
    "    SELECT Gender, Loan_Status, COUNT(*) as Count\n",
    "    FROM table\n",
    "    GROUP BY Gender, Loan_Status\n",
    "\"\"\").show()"
   ]
  },
  {
   "cell_type": "markdown",
   "metadata": {},
   "source": [
    "Ingresos promedio del solicitante y co-solicitante por estado civil:"
   ]
  },
  {
   "cell_type": "code",
   "execution_count": 35,
   "metadata": {},
   "outputs": [
    {
     "name": "stdout",
     "output_type": "stream",
     "text": [
      "+-------+-------------------+---------------------+\n",
      "|Married|Avg_ApplicantIncome|Avg_CoapplicantIncome|\n",
      "+-------+-------------------+---------------------+\n",
      "|   NULL|             6207.0|   251.33333333333334|\n",
      "|     No|  4970.384976525822|   1316.5586854460093|\n",
      "|    Yes|  5629.173366834171|    1794.632964795578|\n",
      "+-------+-------------------+---------------------+\n",
      "\n"
     ]
    }
   ],
   "source": [
    "spark.sql(\"\"\"\n",
    "    SELECT Married, AVG(ApplicantIncome) as Avg_ApplicantIncome, AVG(CoapplicantIncome) as Avg_CoapplicantIncome\n",
    "    FROM table\n",
    "    GROUP BY Married\n",
    "\"\"\").show()"
   ]
  },
  {
   "cell_type": "markdown",
   "metadata": {},
   "source": [
    "Distribución de préstamos por estado de propiedad. Muestra cuántos préstamos hay en cada área de propiedad."
   ]
  },
  {
   "cell_type": "code",
   "execution_count": 36,
   "metadata": {},
   "outputs": [
    {
     "name": "stdout",
     "output_type": "stream",
     "text": [
      "+-------------+----------+\n",
      "|Property_Area|Loan_Count|\n",
      "+-------------+----------+\n",
      "|        Urban|       202|\n",
      "|    Semiurban|       233|\n",
      "|        Rural|       179|\n",
      "+-------------+----------+\n",
      "\n"
     ]
    }
   ],
   "source": [
    "spark.sql(\"\"\"\n",
    "    SELECT Property_Area, COUNT(*) as Loan_Count\n",
    "    FROM table\n",
    "    GROUP BY Property_Area\n",
    "\"\"\").show()"
   ]
  },
  {
   "cell_type": "markdown",
   "metadata": {},
   "source": [
    "Promedio de monto de préstamo por nivel educativo. Muestra el monto promedio del préstamo basado en el nivel educativo del solicitante."
   ]
  },
  {
   "cell_type": "code",
   "execution_count": 37,
   "metadata": {},
   "outputs": [
    {
     "name": "stdout",
     "output_type": "stream",
     "text": [
      "+------------+------------------+\n",
      "|   Education|    Avg_LoanAmount|\n",
      "+------------+------------------+\n",
      "|Not Graduate|118.40944881889764|\n",
      "|    Graduate|154.06021505376344|\n",
      "+------------+------------------+\n",
      "\n"
     ]
    }
   ],
   "source": [
    "spark.sql(\"\"\"\n",
    "    SELECT Education, AVG(LoanAmount) as Avg_LoanAmount\n",
    "    FROM table\n",
    "    GROUP BY Education\n",
    "\"\"\").show()"
   ]
  },
  {
   "cell_type": "markdown",
   "metadata": {},
   "source": [
    "Cantidad de préstamos según el estado civil y el historial crediticio. Muestra si el estado civil y el historial crediticio afectan la cantidad de préstamos otorgados."
   ]
  },
  {
   "cell_type": "code",
   "execution_count": 38,
   "metadata": {},
   "outputs": [
    {
     "name": "stdout",
     "output_type": "stream",
     "text": [
      "+-------+--------------+----------+\n",
      "|Married|Credit_History|Loan_Count|\n",
      "+-------+--------------+----------+\n",
      "|    Yes|             0|        57|\n",
      "|     No|             1|       167|\n",
      "|   NULL|             1|         3|\n",
      "|    Yes|             1|       305|\n",
      "|     No|          NULL|        14|\n",
      "|    Yes|          NULL|        36|\n",
      "|     No|             0|        32|\n",
      "+-------+--------------+----------+\n",
      "\n"
     ]
    }
   ],
   "source": [
    "spark.sql(\"\"\"\n",
    "    SELECT Married, Credit_History, COUNT(*) as Loan_Count\n",
    "    FROM table\n",
    "    GROUP BY Married, Credit_History\n",
    "\"\"\").show()"
   ]
  },
  {
   "cell_type": "markdown",
   "metadata": {},
   "source": [
    "Promedio del monto del préstamo por número de dependientes. Muestra el monto promedio del préstamo basado en el número de dependientes del solicitante."
   ]
  },
  {
   "cell_type": "code",
   "execution_count": 39,
   "metadata": {},
   "outputs": [
    {
     "name": "stdout",
     "output_type": "stream",
     "text": [
      "+----------+------------------+\n",
      "|Dependents|    Avg_LoanAmount|\n",
      "+----------+------------------+\n",
      "|         0|135.88622754491018|\n",
      "|      NULL| 128.3846153846154|\n",
      "|         1|158.62244897959184|\n",
      "|        3+|190.89795918367346|\n",
      "|         2|150.22448979591837|\n",
      "+----------+------------------+\n",
      "\n"
     ]
    }
   ],
   "source": [
    "spark.sql(\"\"\"\n",
    "    SELECT Dependents, AVG(LoanAmount) as Avg_LoanAmount\n",
    "    FROM table\n",
    "    GROUP BY Dependents\n",
    "\"\"\").show()"
   ]
  },
  {
   "cell_type": "markdown",
   "metadata": {},
   "source": [
    "Promedio de ingresos del solicitante por tipo de empleo. Muestra el ingreso promedio del solicitante basado en si el solicitante es autónomo o no."
   ]
  },
  {
   "cell_type": "code",
   "execution_count": 40,
   "metadata": {},
   "outputs": [
    {
     "name": "stdout",
     "output_type": "stream",
     "text": [
      "+-------------+-------------------+\n",
      "|Self_Employed|Avg_ApplicantIncome|\n",
      "+-------------+-------------------+\n",
      "|         NULL|         5863.21875|\n",
      "|           No|           5049.748|\n",
      "|          Yes|  7380.817073170731|\n",
      "+-------------+-------------------+\n",
      "\n"
     ]
    }
   ],
   "source": [
    "spark.sql(\"\"\"\n",
    "    SELECT Self_Employed, AVG(ApplicantIncome) as Avg_ApplicantIncome\n",
    "    FROM table\n",
    "    GROUP BY Self_Employed\n",
    "\"\"\").show()"
   ]
  },
  {
   "cell_type": "markdown",
   "metadata": {},
   "source": [
    "Relación entre ingresos del solicitante y estado del préstamo. Muestra la relación entre los ingresos del solicitante y el estado del préstamo (aprobado o no)."
   ]
  },
  {
   "cell_type": "code",
   "execution_count": 41,
   "metadata": {},
   "outputs": [
    {
     "name": "stdout",
     "output_type": "stream",
     "text": [
      "+-----------+-------------------+\n",
      "|Loan_Status|Avg_ApplicantIncome|\n",
      "+-----------+-------------------+\n",
      "|          Y|  5384.068720379147|\n",
      "|          N|        5446.078125|\n",
      "+-----------+-------------------+\n",
      "\n"
     ]
    }
   ],
   "source": [
    "spark.sql(\"\"\"\n",
    "    SELECT Loan_Status, AVG(ApplicantIncome) as Avg_ApplicantIncome\n",
    "    FROM table\n",
    "    GROUP BY Loan_Status\n",
    "\"\"\").show()"
   ]
  },
  {
   "cell_type": "markdown",
   "metadata": {},
   "source": [
    "# 🧹 4.- Limpieza de datos"
   ]
  },
  {
   "cell_type": "markdown",
   "metadata": {},
   "source": [
    "Mostrar valores nulos (Null) por columna"
   ]
  },
  {
   "cell_type": "code",
   "execution_count": 42,
   "metadata": {},
   "outputs": [
    {
     "name": "stdout",
     "output_type": "stream",
     "text": [
      "+-------+------+-------+----------+---------+-------------+---------------+-----------------+----------+----------------+--------------+-------------+-----------+\n",
      "|Loan_ID|Gender|Married|Dependents|Education|Self_Employed|ApplicantIncome|CoapplicantIncome|LoanAmount|Loan_Amount_Term|Credit_History|Property_Area|Loan_Status|\n",
      "+-------+------+-------+----------+---------+-------------+---------------+-----------------+----------+----------------+--------------+-------------+-----------+\n",
      "|      0|    13|      3|        15|        0|           32|              0|                0|        22|              14|            50|            0|          0|\n",
      "+-------+------+-------+----------+---------+-------------+---------------+-----------------+----------+----------------+--------------+-------------+-----------+\n",
      "\n"
     ]
    }
   ],
   "source": [
    "dataset.select([F.count(F.when(F.col(c).isNull(), c)).alias(c) for c in dataset.columns]).show()"
   ]
  },
  {
   "cell_type": "markdown",
   "metadata": {},
   "source": [
    "Obtener el valor medio de la columna"
   ]
  },
  {
   "cell_type": "code",
   "execution_count": 43,
   "metadata": {},
   "outputs": [
    {
     "data": {
      "text/plain": [
       "146.41216216216216"
      ]
     },
     "execution_count": 43,
     "metadata": {},
     "output_type": "execute_result"
    }
   ],
   "source": [
    "mean = dataset.select(F.mean(dataset['LoanAmount'])).collect()[0][0]\n",
    "mean"
   ]
  },
  {
   "cell_type": "markdown",
   "metadata": {},
   "source": [
    "Rellenar valor nulo (Null)"
   ]
  },
  {
   "cell_type": "code",
   "execution_count": 44,
   "metadata": {},
   "outputs": [],
   "source": [
    "dataset = dataset.na.fill(mean, ['LoanAmount'])"
   ]
  },
  {
   "cell_type": "markdown",
   "metadata": {},
   "source": [
    "Obtener el valor de modo de la columna"
   ]
  },
  {
   "cell_type": "code",
   "execution_count": 45,
   "metadata": {},
   "outputs": [
    {
     "data": {
      "text/plain": [
       "'Male'"
      ]
     },
     "execution_count": 45,
     "metadata": {},
     "output_type": "execute_result"
    }
   ],
   "source": [
    "dataset.groupby('Gender').count().orderBy(\"count\", ascending=False).first()[0]"
   ]
  },
  {
   "cell_type": "markdown",
   "metadata": {},
   "source": [
    "Rellenar valores nulos (Null) para todas las columnas"
   ]
  },
  {
   "cell_type": "code",
   "execution_count": 46,
   "metadata": {},
   "outputs": [],
   "source": [
    "numerical_cols = ['LoanAmount', 'Loan_Amount_Term']"
   ]
  },
  {
   "cell_type": "code",
   "execution_count": 47,
   "metadata": {},
   "outputs": [],
   "source": [
    "categorical_cols = ['Gender', 'Married', 'Dependents', 'Self_Employed', 'Credit_History']"
   ]
  },
  {
   "cell_type": "code",
   "execution_count": 48,
   "metadata": {},
   "outputs": [],
   "source": [
    "for col in numerical_cols:\n",
    "    mean = dataset.select(F.mean(dataset[col])).collect()[0][0]\n",
    "    dataset = dataset.na.fill(mean, [col])"
   ]
  },
  {
   "cell_type": "code",
   "execution_count": 49,
   "metadata": {},
   "outputs": [],
   "source": [
    "for col in categorical_cols:\n",
    "    mode = dataset.groupby(col).count().orderBy(\"count\", ascending=False).first()[0]\n",
    "    dataset = dataset.na.fill(mode, [col])"
   ]
  },
  {
   "cell_type": "markdown",
   "metadata": {},
   "source": [
    "Mostrar valores nulos (Null) de nuevo"
   ]
  },
  {
   "cell_type": "code",
   "execution_count": 50,
   "metadata": {},
   "outputs": [
    {
     "name": "stdout",
     "output_type": "stream",
     "text": [
      "+-------+------+-------+----------+---------+-------------+---------------+-----------------+----------+----------------+--------------+-------------+-----------+\n",
      "|Loan_ID|Gender|Married|Dependents|Education|Self_Employed|ApplicantIncome|CoapplicantIncome|LoanAmount|Loan_Amount_Term|Credit_History|Property_Area|Loan_Status|\n",
      "+-------+------+-------+----------+---------+-------------+---------------+-----------------+----------+----------------+--------------+-------------+-----------+\n",
      "|      0|     0|      0|         0|        0|            0|              0|                0|         0|               0|             0|            0|          0|\n",
      "+-------+------+-------+----------+---------+-------------+---------------+-----------------+----------+----------------+--------------+-------------+-----------+\n",
      "\n"
     ]
    }
   ],
   "source": [
    "dataset.select([F.count(F.when(F.col(c).isNull(), c)).alias(c) for c in dataset.columns]).show()"
   ]
  },
  {
   "cell_type": "markdown",
   "metadata": {},
   "source": [
    "Crear nueva columna de feature de Total Income\n",
    "\n",
    "Total Income = ApplicantIncome + CoapplicantIncome"
   ]
  },
  {
   "cell_type": "code",
   "execution_count": 51,
   "metadata": {},
   "outputs": [
    {
     "name": "stdout",
     "output_type": "stream",
     "text": [
      "+--------+------+-------+----------+------------+-------------+---------------+-----------------+----------+----------------+--------------+-------------+-----------+-----------+\n",
      "| Loan_ID|Gender|Married|Dependents|   Education|Self_Employed|ApplicantIncome|CoapplicantIncome|LoanAmount|Loan_Amount_Term|Credit_History|Property_Area|Loan_Status|TotalIncome|\n",
      "+--------+------+-------+----------+------------+-------------+---------------+-----------------+----------+----------------+--------------+-------------+-----------+-----------+\n",
      "|LP001002|  Male|     No|         0|    Graduate|           No|           5849|              0.0|       146|             360|             1|        Urban|          Y|     5849.0|\n",
      "|LP001003|  Male|    Yes|         1|    Graduate|           No|           4583|           1508.0|       128|             360|             1|        Rural|          N|     6091.0|\n",
      "|LP001005|  Male|    Yes|         0|    Graduate|          Yes|           3000|              0.0|        66|             360|             1|        Urban|          Y|     3000.0|\n",
      "|LP001006|  Male|    Yes|         0|Not Graduate|           No|           2583|           2358.0|       120|             360|             1|        Urban|          Y|     4941.0|\n",
      "|LP001008|  Male|     No|         0|    Graduate|           No|           6000|              0.0|       141|             360|             1|        Urban|          Y|     6000.0|\n",
      "+--------+------+-------+----------+------------+-------------+---------------+-----------------+----------+----------------+--------------+-------------+-----------+-----------+\n",
      "only showing top 5 rows\n",
      "\n"
     ]
    }
   ],
   "source": [
    "dataset = dataset.withColumn('TotalIncome', F.col('ApplicantIncome') + F.col('CoapplicantIncome'))\n",
    "dataset.show(5)"
   ]
  },
  {
   "cell_type": "markdown",
   "metadata": {},
   "source": [
    "Buscar y sustituir valores"
   ]
  },
  {
   "cell_type": "code",
   "execution_count": 52,
   "metadata": {},
   "outputs": [
    {
     "name": "stdout",
     "output_type": "stream",
     "text": [
      "+--------+------+-------+----------+------------+-------------+---------------+-----------------+----------+----------------+--------------+-------------+-----------+-----------+\n",
      "| Loan_ID|Gender|Married|Dependents|   Education|Self_Employed|ApplicantIncome|CoapplicantIncome|LoanAmount|Loan_Amount_Term|Credit_History|Property_Area|Loan_Status|TotalIncome|\n",
      "+--------+------+-------+----------+------------+-------------+---------------+-----------------+----------+----------------+--------------+-------------+-----------+-----------+\n",
      "|LP001002|  Male|     No|         0|    Graduate|           No|           5849|              0.0|       146|             360|             1|        Urban|          1|     5849.0|\n",
      "|LP001003|  Male|    Yes|         1|    Graduate|           No|           4583|           1508.0|       128|             360|             1|        Rural|          0|     6091.0|\n",
      "|LP001005|  Male|    Yes|         0|    Graduate|          Yes|           3000|              0.0|        66|             360|             1|        Urban|          1|     3000.0|\n",
      "|LP001006|  Male|    Yes|         0|Not Graduate|           No|           2583|           2358.0|       120|             360|             1|        Urban|          1|     4941.0|\n",
      "|LP001008|  Male|     No|         0|    Graduate|           No|           6000|              0.0|       141|             360|             1|        Urban|          1|     6000.0|\n",
      "+--------+------+-------+----------+------------+-------------+---------------+-----------------+----------+----------------+--------------+-------------+-----------+-----------+\n",
      "only showing top 5 rows\n",
      "\n"
     ]
    }
   ],
   "source": [
    "dataset = dataset.withColumn('Loan_Status', F.when(dataset['Loan_Status']=='Y', 1).otherwise(0))\n",
    "dataset.show(5)"
   ]
  },
  {
   "cell_type": "markdown",
   "metadata": {},
   "source": [
    "# ⚙️ 5.- Ingenieria de funciones"
   ]
  },
  {
   "cell_type": "code",
   "execution_count": 53,
   "metadata": {},
   "outputs": [
    {
     "name": "stdout",
     "output_type": "stream",
     "text": [
      "root\n",
      " |-- Loan_ID: string (nullable = true)\n",
      " |-- Gender: string (nullable = false)\n",
      " |-- Married: string (nullable = false)\n",
      " |-- Dependents: string (nullable = false)\n",
      " |-- Education: string (nullable = true)\n",
      " |-- Self_Employed: string (nullable = false)\n",
      " |-- ApplicantIncome: integer (nullable = true)\n",
      " |-- CoapplicantIncome: double (nullable = true)\n",
      " |-- LoanAmount: integer (nullable = true)\n",
      " |-- Loan_Amount_Term: integer (nullable = true)\n",
      " |-- Credit_History: integer (nullable = true)\n",
      " |-- Property_Area: string (nullable = true)\n",
      " |-- Loan_Status: integer (nullable = false)\n",
      " |-- TotalIncome: double (nullable = true)\n",
      "\n"
     ]
    }
   ],
   "source": [
    "dataset.printSchema()"
   ]
  },
  {
   "cell_type": "code",
   "execution_count": 55,
   "metadata": {},
   "outputs": [],
   "source": [
    "categorical_columns = ['Gender', 'Married', 'Dependents', 'Education', 'Self_Employed', 'Property_Area', 'Credit_History']"
   ]
  },
  {
   "cell_type": "code",
   "execution_count": 56,
   "metadata": {},
   "outputs": [],
   "source": [
    "numerical_columns = ['ApplicantIncome', 'CoapplicantIncome', 'LoanAmount', 'Loan_Amount_Term', 'TotalIncome']"
   ]
  },
  {
   "cell_type": "markdown",
   "metadata": {},
   "source": [
    "Indexar las columnas de cadenas"
   ]
  },
  {
   "cell_type": "code",
   "execution_count": 57,
   "metadata": {},
   "outputs": [],
   "source": [
    "indexers = [StringIndexer(inputCol=col, outputCol=\"{0}_index\".format(col)) for col in categorical_columns]"
   ]
  },
  {
   "cell_type": "markdown",
   "metadata": {},
   "source": [
    "Codificar los valores indexados"
   ]
  },
  {
   "cell_type": "code",
   "execution_count": 58,
   "metadata": {},
   "outputs": [],
   "source": [
    "encoders = [OneHotEncoder(dropLast=False, inputCol=indexer.getOutputCol(), outputCol=\"{0}_encoded\".format(indexer.getOutputCol()))\n",
    "           for indexer in indexers]"
   ]
  },
  {
   "cell_type": "code",
   "execution_count": 59,
   "metadata": {},
   "outputs": [],
   "source": [
    "input_columns = [encoder.getOutputCol() for encoder in encoders] + numerical_columns"
   ]
  },
  {
   "cell_type": "markdown",
   "metadata": {},
   "source": [
    "Vectorizar los valores codificados"
   ]
  },
  {
   "cell_type": "code",
   "execution_count": 60,
   "metadata": {},
   "outputs": [],
   "source": [
    "assembler = VectorAssembler(inputCols=input_columns, outputCol=\"feature\")"
   ]
  },
  {
   "cell_type": "markdown",
   "metadata": {},
   "source": [
    "Crear el pipeline para transformar los datos"
   ]
  },
  {
   "cell_type": "code",
   "execution_count": 61,
   "metadata": {},
   "outputs": [],
   "source": [
    "pipeline = Pipeline(stages = indexers + encoders + [assembler])"
   ]
  },
  {
   "cell_type": "code",
   "execution_count": 62,
   "metadata": {},
   "outputs": [],
   "source": [
    "dataset_model = pipeline.fit(dataset)"
   ]
  },
  {
   "cell_type": "code",
   "execution_count": 63,
   "metadata": {},
   "outputs": [],
   "source": [
    "transformed_dataset = dataset_model.transform(dataset)"
   ]
  },
  {
   "cell_type": "code",
   "execution_count": 64,
   "metadata": {},
   "outputs": [
    {
     "name": "stdout",
     "output_type": "stream",
     "text": [
      "+--------+------+-------+----------+------------+-------------+---------------+-----------------+----------+----------------+--------------+-------------+-----------+-----------+------------+-------------+----------------+---------------+-------------------+-------------------+--------------------+--------------------+---------------------+------------------------+-----------------------+---------------------------+---------------------------+----------------------------+--------------------+\n",
      "| Loan_ID|Gender|Married|Dependents|   Education|Self_Employed|ApplicantIncome|CoapplicantIncome|LoanAmount|Loan_Amount_Term|Credit_History|Property_Area|Loan_Status|TotalIncome|Gender_index|Married_index|Dependents_index|Education_index|Self_Employed_index|Property_Area_index|Credit_History_index|Gender_index_encoded|Married_index_encoded|Dependents_index_encoded|Education_index_encoded|Self_Employed_index_encoded|Property_Area_index_encoded|Credit_History_index_encoded|             feature|\n",
      "+--------+------+-------+----------+------------+-------------+---------------+-----------------+----------+----------------+--------------+-------------+-----------+-----------+------------+-------------+----------------+---------------+-------------------+-------------------+--------------------+--------------------+---------------------+------------------------+-----------------------+---------------------------+---------------------------+----------------------------+--------------------+\n",
      "|LP001002|  Male|     No|         0|    Graduate|           No|           5849|              0.0|       146|             360|             1|        Urban|          1|     5849.0|         0.0|          1.0|             0.0|            0.0|                0.0|                1.0|                 0.0|       (2,[0],[1.0])|        (2,[1],[1.0])|           (4,[0],[1.0])|          (2,[0],[1.0])|              (2,[0],[1.0])|              (3,[1],[1.0])|               (2,[0],[1.0])|(22,[0,3,4,8,10,1...|\n",
      "|LP001003|  Male|    Yes|         1|    Graduate|           No|           4583|           1508.0|       128|             360|             1|        Rural|          0|     6091.0|         0.0|          0.0|             1.0|            0.0|                0.0|                2.0|                 0.0|       (2,[0],[1.0])|        (2,[0],[1.0])|           (4,[1],[1.0])|          (2,[0],[1.0])|              (2,[0],[1.0])|              (3,[2],[1.0])|               (2,[0],[1.0])|(22,[0,2,5,8,10,1...|\n",
      "|LP001005|  Male|    Yes|         0|    Graduate|          Yes|           3000|              0.0|        66|             360|             1|        Urban|          1|     3000.0|         0.0|          0.0|             0.0|            0.0|                1.0|                1.0|                 0.0|       (2,[0],[1.0])|        (2,[0],[1.0])|           (4,[0],[1.0])|          (2,[0],[1.0])|              (2,[1],[1.0])|              (3,[1],[1.0])|               (2,[0],[1.0])|(22,[0,2,4,8,11,1...|\n",
      "|LP001006|  Male|    Yes|         0|Not Graduate|           No|           2583|           2358.0|       120|             360|             1|        Urban|          1|     4941.0|         0.0|          0.0|             0.0|            1.0|                0.0|                1.0|                 0.0|       (2,[0],[1.0])|        (2,[0],[1.0])|           (4,[0],[1.0])|          (2,[1],[1.0])|              (2,[0],[1.0])|              (3,[1],[1.0])|               (2,[0],[1.0])|(22,[0,2,4,9,10,1...|\n",
      "|LP001008|  Male|     No|         0|    Graduate|           No|           6000|              0.0|       141|             360|             1|        Urban|          1|     6000.0|         0.0|          1.0|             0.0|            0.0|                0.0|                1.0|                 0.0|       (2,[0],[1.0])|        (2,[1],[1.0])|           (4,[0],[1.0])|          (2,[0],[1.0])|              (2,[0],[1.0])|              (3,[1],[1.0])|               (2,[0],[1.0])|(22,[0,3,4,8,10,1...|\n",
      "+--------+------+-------+----------+------------+-------------+---------------+-----------------+----------+----------------+--------------+-------------+-----------+-----------+------------+-------------+----------------+---------------+-------------------+-------------------+--------------------+--------------------+---------------------+------------------------+-----------------------+---------------------------+---------------------------+----------------------------+--------------------+\n",
      "only showing top 5 rows\n",
      "\n"
     ]
    }
   ],
   "source": [
    "transformed_dataset.show(5)"
   ]
  },
  {
   "cell_type": "markdown",
   "metadata": {},
   "source": [
    "obtener característica (feature) de entrada y columnas de salida"
   ]
  },
  {
   "cell_type": "code",
   "execution_count": 65,
   "metadata": {},
   "outputs": [],
   "source": [
    "transformed_dataset = transformed_dataset.select(['feature', 'Loan_Status'])"
   ]
  },
  {
   "cell_type": "markdown",
   "metadata": {},
   "source": [
    "Dividir los datos para entrenamiento (train) y prueba (test)\n",
    "\n",
    "Por defecto, train 80 % test 20 %"
   ]
  },
  {
   "cell_type": "code",
   "execution_count": 66,
   "metadata": {},
   "outputs": [],
   "source": [
    "train_data, test_data = transformed_dataset.randomSplit([0.8, 0.2], seed=42)"
   ]
  },
  {
   "cell_type": "code",
   "execution_count": 67,
   "metadata": {},
   "outputs": [
    {
     "name": "stdout",
     "output_type": "stream",
     "text": [
      "+--------------------+-----------+\n",
      "|             feature|Loan_Status|\n",
      "+--------------------+-----------+\n",
      "|(22,[0,2,4,8,10,1...|          1|\n",
      "|(22,[0,2,4,8,10,1...|          1|\n",
      "|(22,[0,2,4,8,10,1...|          0|\n",
      "|(22,[0,2,4,8,10,1...|          1|\n",
      "|(22,[0,2,4,8,10,1...|          1|\n",
      "+--------------------+-----------+\n",
      "only showing top 5 rows\n",
      "\n"
     ]
    }
   ],
   "source": [
    "train_data.show(5)"
   ]
  },
  {
   "cell_type": "markdown",
   "metadata": {},
   "source": [
    "# 📈 6.- Modelo 1: Logistic Regression (Machine Learning)"
   ]
  },
  {
   "cell_type": "markdown",
   "metadata": {},
   "source": [
    "Paso 1- Crear y ajustar el modelo de Regresión Logística"
   ]
  },
  {
   "cell_type": "markdown",
   "metadata": {},
   "source": [
    "Crear el modelo de regresión logística"
   ]
  },
  {
   "cell_type": "code",
   "execution_count": 188,
   "metadata": {},
   "outputs": [],
   "source": [
    "lr = LogisticRegression(featuresCol='feature', labelCol='Loan_Status')"
   ]
  },
  {
   "cell_type": "markdown",
   "metadata": {},
   "source": [
    "Crear la grid de hiperparámetros para la regresión logística"
   ]
  },
  {
   "cell_type": "code",
   "execution_count": 189,
   "metadata": {},
   "outputs": [],
   "source": [
    "paramGridLR = ParamGridBuilder() \\\n",
    "    .addGrid(lr.regParam, [0.01, 0.1, 1.0]) \\\n",
    "    .addGrid(lr.elasticNetParam, [0.0, 0.5, 1.0]) \\\n",
    "    .addGrid(lr.maxIter, [50, 100, 200]) \\\n",
    "    .addGrid(lr.tol, [1e-6, 1e-4, 1e-2]) \\\n",
    "    .addGrid(lr.threshold, [0.4, 0.5, 0.6]) \\\n",
    "    .build()"
   ]
  },
  {
   "cell_type": "markdown",
   "metadata": {},
   "source": [
    "Crear el evaluador"
   ]
  },
  {
   "cell_type": "code",
   "execution_count": 190,
   "metadata": {},
   "outputs": [],
   "source": [
    "evaluator = BinaryClassificationEvaluator(labelCol='Loan_Status')"
   ]
  },
  {
   "cell_type": "markdown",
   "metadata": {},
   "source": [
    "Crear el cross-validator para la regresión logística"
   ]
  },
  {
   "cell_type": "code",
   "execution_count": 191,
   "metadata": {},
   "outputs": [],
   "source": [
    "crossvalLR = CrossValidator(estimator=lr,\n",
    "                            estimatorParamMaps=paramGridLR,\n",
    "                            evaluator=evaluator,\n",
    "                            numFolds=10)"
   ]
  },
  {
   "cell_type": "markdown",
   "metadata": {},
   "source": [
    "Entrenar el modelo de regresión logística usando cross-validation"
   ]
  },
  {
   "cell_type": "code",
   "execution_count": 192,
   "metadata": {},
   "outputs": [],
   "source": [
    "cvModelLR = crossvalLR.fit(train_data)"
   ]
  },
  {
   "cell_type": "markdown",
   "metadata": {},
   "source": [
    "Tiempo espera: 20 mins 58 seg"
   ]
  },
  {
   "cell_type": "markdown",
   "metadata": {},
   "source": [
    "Paso 2- Evaluar el modelo de Regresión Logística"
   ]
  },
  {
   "cell_type": "markdown",
   "metadata": {},
   "source": [
    "Evaluar el modelo de regresión logística en el conjunto de prueba"
   ]
  },
  {
   "cell_type": "code",
   "execution_count": 193,
   "metadata": {},
   "outputs": [],
   "source": [
    "predictionsLR = cvModelLR.transform(test_data)"
   ]
  },
  {
   "cell_type": "markdown",
   "metadata": {},
   "source": [
    "Calcular métricas adicionales"
   ]
  },
  {
   "cell_type": "code",
   "execution_count": 194,
   "metadata": {},
   "outputs": [],
   "source": [
    "evaluator_multiclass = MulticlassClassificationEvaluator(labelCol='Loan_Status', metricName='accuracy')\n",
    "accuracyLR = evaluator_multiclass.evaluate(predictionsLR)\n",
    "\n",
    "evaluator_precision = MulticlassClassificationEvaluator(labelCol='Loan_Status', metricName='weightedPrecision')\n",
    "precisionLR = evaluator_precision.evaluate(predictionsLR)\n",
    "\n",
    "evaluator_recall = MulticlassClassificationEvaluator(labelCol='Loan_Status', metricName='weightedRecall')\n",
    "recallLR = evaluator_recall.evaluate(predictionsLR)\n",
    "\n",
    "f1LR = evaluator_multiclass.evaluate(predictionsLR, {evaluator_multiclass.metricName: \"f1\"})"
   ]
  },
  {
   "cell_type": "markdown",
   "metadata": {},
   "source": [
    "Extraer las probabilidades y las etiquetas reales"
   ]
  },
  {
   "cell_type": "code",
   "execution_count": 195,
   "metadata": {},
   "outputs": [],
   "source": [
    "probabilitiesLR = predictionsLR.select('probability').collect()\n",
    "y_true = predictionsLR.select('Loan_Status').collect()"
   ]
  },
  {
   "cell_type": "markdown",
   "metadata": {},
   "source": [
    "Convertir a numpy array y asegurar que tenemos la columna correcta"
   ]
  },
  {
   "cell_type": "code",
   "execution_count": 196,
   "metadata": {},
   "outputs": [],
   "source": [
    "probabilitiesLR = np.array([prob[0][1] for prob in probabilitiesLR])\n",
    "y_true = np.array([label[0] for label in y_true])"
   ]
  },
  {
   "cell_type": "markdown",
   "metadata": {},
   "source": [
    "Calcular AUC"
   ]
  },
  {
   "cell_type": "code",
   "execution_count": 197,
   "metadata": {},
   "outputs": [],
   "source": [
    "aucLR = evaluator.evaluate(predictionsLR)"
   ]
  },
  {
   "cell_type": "markdown",
   "metadata": {},
   "source": [
    "Calcular coeficiente de Gini"
   ]
  },
  {
   "cell_type": "code",
   "execution_count": 198,
   "metadata": {},
   "outputs": [],
   "source": [
    "giniLR = 2 * aucLR - 1"
   ]
  },
  {
   "cell_type": "markdown",
   "metadata": {},
   "source": [
    "Matriz de Confusion (Revisar esta parte de chatgpt)"
   ]
  },
  {
   "cell_type": "code",
   "execution_count": 199,
   "metadata": {},
   "outputs": [],
   "source": [
    "y_pred = np.array(predictionsLR.select('prediction').collect()).flatten()\n",
    "conf_matrixLR = confusion_matrix(y_true, y_pred)"
   ]
  },
  {
   "cell_type": "code",
   "execution_count": 200,
   "metadata": {},
   "outputs": [
    {
     "data": {
      "image/png": "[encoded data removed]",
      "text/plain": [
       "<Figure size 800x600 with 2 Axes>"
      ]
     },
     "metadata": {},
     "output_type": "display_data"
    }
   ],
   "source": [
    "plt.figure(figsize=(8, 6))\n",
    "sns.heatmap(conf_matrixLR, annot=True, fmt=\"d\", cmap=\"viridis\")\n",
    "plt.title(\"Matriz de Confusión - Regresión Logística\")\n",
    "plt.ylabel('Actual')\n",
    "plt.xlabel('Predicho')\n",
    "plt.show()"
   ]
  },
  {
   "cell_type": "markdown",
   "metadata": {},
   "source": [
    "Curva ROC"
   ]
  },
  {
   "cell_type": "code",
   "execution_count": 201,
   "metadata": {},
   "outputs": [],
   "source": [
    "fprLR, tprLR, _ = roc_curve(y_true, probabilitiesLR)\n",
    "roc_aucLR = auc(fprLR, tprLR)"
   ]
  },
  {
   "cell_type": "code",
   "execution_count": 202,
   "metadata": {},
   "outputs": [
    {
     "data": {
      "image/png": "[encoded data removed]",
      "text/plain": [
       "<Figure size 640x480 with 1 Axes>"
      ]
     },
     "metadata": {},
     "output_type": "display_data"
    }
   ],
   "source": [
    "plt.figure()\n",
    "plt.plot(fprLR, tprLR, color='darkorange', lw=2, label='ROC curve (area = %0.2f)' % roc_aucLR)\n",
    "plt.plot([0, 1], [0, 1], color='navy', lw=2, linestyle='--')\n",
    "plt.xlim([0.0, 1.0])\n",
    "plt.ylim([0.0, 1.05])\n",
    "plt.xlabel('False Positive Rate')\n",
    "plt.ylabel('True Positive Rate')\n",
    "plt.title('Curva ROC - Regresión Logística')\n",
    "plt.legend(loc=\"lower right\")\n",
    "plt.show()"
   ]
  },
  {
   "cell_type": "markdown",
   "metadata": {},
   "source": [
    "Almacenar resultados"
   ]
  },
  {
   "cell_type": "code",
   "execution_count": 203,
   "metadata": {},
   "outputs": [],
   "source": [
    "results_lr = {\n",
    "    'Modelo': 'Regresión Logística',\n",
    "    'AUC': aucLR,\n",
    "    'Exactitud (Accuracy)': accuracyLR,\n",
    "    'Sensibilidad (Recall)': recallLR,\n",
    "    'Precisión (Precision)': precisionLR,\n",
    "    'Puntuación F1 (F1 Score)': f1LR,\n",
    "    'Coeficiente de Gini': giniLR,\n",
    "    'ROC AUC': roc_aucLR\n",
    "}"
   ]
  },
  {
   "cell_type": "markdown",
   "metadata": {},
   "source": [
    "Mostrar resultados"
   ]
  },
  {
   "cell_type": "code",
   "execution_count": 204,
   "metadata": {},
   "outputs": [
    {
     "name": "stdout",
     "output_type": "stream",
     "text": [
      "Modelo 1: Regresión Logística\n",
      "AUC: 0.7873015873015874\n",
      "Exactitud (Accuracy): 0.8350515463917526\n",
      "Sensibilidad (Recall): 0.8350515463917526\n",
      "Precisión (Precision): 0.8657396307839846\n",
      "Puntuación F1 (F1 Score): 0.8087844512152704\n",
      "Coeficiente de Gini: 0.5746031746031748\n",
      "ROC AUC: 0.7873015873015874\n"
     ]
    }
   ],
   "source": [
    "print(f\"Modelo 1: Regresión Logística\\nAUC: {aucLR}\\nExactitud (Accuracy): {accuracyLR}\\nSensibilidad (Recall): {recallLR}\\nPrecisión (Precision): {precisionLR}\\nPuntuación F1 (F1 Score): {f1LR}\\nCoeficiente de Gini: {giniLR}\\nROC AUC: {roc_aucLR}\")"
   ]
  },
  {
   "cell_type": "markdown",
   "metadata": {},
   "source": [
    "cuando ves que AUC y ROC AUC tienen el mismo valor, esto indica que ambos cálculos han sido realizados correctamente y están midiendo lo mismo."
   ]
  },
  {
   "cell_type": "markdown",
   "metadata": {},
   "source": [
    "# 🌳 7.- Modelo 2: Random Forest (Machine Learning)"
   ]
  },
  {
   "cell_type": "markdown",
   "metadata": {},
   "source": [
    "Paso 1- Crear y ajustar el modelo de Random Forest"
   ]
  },
  {
   "cell_type": "markdown",
   "metadata": {},
   "source": [
    "Crear el modelo"
   ]
  },
  {
   "cell_type": "code",
   "execution_count": 206,
   "metadata": {},
   "outputs": [],
   "source": [
    "rf = RandomForestClassifier(featuresCol='feature', labelCol='Loan_Status')"
   ]
  },
  {
   "cell_type": "markdown",
   "metadata": {},
   "source": [
    "Crear la grid de hiperparámetros para el Random Forest"
   ]
  },
  {
   "cell_type": "code",
   "execution_count": 207,
   "metadata": {},
   "outputs": [],
   "source": [
    "paramGridRF = ParamGridBuilder() \\\n",
    "    .addGrid(rf.numTrees, [50, 100, 150]) \\\n",
    "    .addGrid(rf.maxDepth, [5, 10, 20]) \\\n",
    "    .addGrid(rf.subsamplingRate, [0.8, 1.0]) \\\n",
    "    .addGrid(rf.maxBins, [32, 64]) \\\n",
    "    .addGrid(rf.impurity, ['gini', 'entropy']) \\\n",
    "    .build()"
   ]
  },
  {
   "cell_type": "markdown",
   "metadata": {},
   "source": [
    "Crear el evaluador"
   ]
  },
  {
   "cell_type": "code",
   "execution_count": 208,
   "metadata": {},
   "outputs": [],
   "source": [
    "evaluator = BinaryClassificationEvaluator(labelCol='Loan_Status')"
   ]
  },
  {
   "cell_type": "markdown",
   "metadata": {},
   "source": [
    "Crear el cross-validator para el Random Forest"
   ]
  },
  {
   "cell_type": "code",
   "execution_count": 209,
   "metadata": {},
   "outputs": [],
   "source": [
    "crossvalRF = CrossValidator(estimator=rf,\n",
    "                            estimatorParamMaps=paramGridRF,\n",
    "                            evaluator=evaluator,\n",
    "                            numFolds=10)"
   ]
  },
  {
   "cell_type": "markdown",
   "metadata": {},
   "source": [
    "Entrenar el modelo de bosque aleatorio usando cross-validation"
   ]
  },
  {
   "cell_type": "code",
   "execution_count": 210,
   "metadata": {},
   "outputs": [],
   "source": [
    "cvModelRF = crossvalRF.fit(train_data)"
   ]
  },
  {
   "cell_type": "markdown",
   "metadata": {},
   "source": [
    "Tiempo espera: 27 mins 11 seg"
   ]
  },
  {
   "cell_type": "markdown",
   "metadata": {},
   "source": [
    "Paso 2- Evaluar el modelo"
   ]
  },
  {
   "cell_type": "markdown",
   "metadata": {},
   "source": [
    "Evaluar el modelo en el conjunto de prueba"
   ]
  },
  {
   "cell_type": "code",
   "execution_count": 211,
   "metadata": {},
   "outputs": [],
   "source": [
    "predictionsRF = cvModelRF.transform(test_data)"
   ]
  },
  {
   "cell_type": "markdown",
   "metadata": {},
   "source": [
    "Calcular métricas adicionales"
   ]
  },
  {
   "cell_type": "code",
   "execution_count": 212,
   "metadata": {},
   "outputs": [],
   "source": [
    "evaluator_multiclass = MulticlassClassificationEvaluator(labelCol='Loan_Status', metricName='accuracy')\n",
    "accuracyRF = evaluator_multiclass.evaluate(predictionsRF)\n",
    "\n",
    "evaluator_precision = MulticlassClassificationEvaluator(labelCol='Loan_Status', metricName='weightedPrecision')\n",
    "precisionRF = evaluator_precision.evaluate(predictionsRF)\n",
    "\n",
    "evaluator_recall = MulticlassClassificationEvaluator(labelCol='Loan_Status', metricName='weightedRecall')\n",
    "recallRF = evaluator_recall.evaluate(predictionsRF)\n",
    "\n",
    "f1RF = evaluator_multiclass.evaluate(predictionsRF, {evaluator_multiclass.metricName: \"f1\"})"
   ]
  },
  {
   "cell_type": "markdown",
   "metadata": {},
   "source": [
    "Extraer las probabilidades y las etiquetas reales"
   ]
  },
  {
   "cell_type": "code",
   "execution_count": 213,
   "metadata": {},
   "outputs": [],
   "source": [
    "probabilitiesRF = predictionsRF.select('probability').collect()\n",
    "y_true = predictionsRF.select('Loan_Status').collect()"
   ]
  },
  {
   "cell_type": "markdown",
   "metadata": {},
   "source": [
    "Convertir a numpy array y asegurar que tenemos la columna correcta"
   ]
  },
  {
   "cell_type": "code",
   "execution_count": 214,
   "metadata": {},
   "outputs": [],
   "source": [
    "probabilitiesRF = np.array([prob[0][1] for prob in probabilitiesRF])\n",
    "y_true = np.array([label[0] for label in y_true])"
   ]
  },
  {
   "cell_type": "markdown",
   "metadata": {},
   "source": [
    "Calcular AUC"
   ]
  },
  {
   "cell_type": "code",
   "execution_count": 215,
   "metadata": {},
   "outputs": [],
   "source": [
    "roc_aucRF = evaluator.evaluate(predictionsRF)"
   ]
  },
  {
   "cell_type": "markdown",
   "metadata": {},
   "source": [
    "Calcular Coeficiente de Gini"
   ]
  },
  {
   "cell_type": "code",
   "execution_count": 216,
   "metadata": {},
   "outputs": [],
   "source": [
    "giniRF = 2 * roc_aucRF - 1"
   ]
  },
  {
   "cell_type": "markdown",
   "metadata": {},
   "source": [
    "Matriz de Confusión"
   ]
  },
  {
   "cell_type": "code",
   "execution_count": 217,
   "metadata": {},
   "outputs": [],
   "source": [
    "y_pred = np.array(predictionsRF.select('prediction').collect()).flatten()\n",
    "conf_matrixRF = confusion_matrix(y_true, y_pred)"
   ]
  },
  {
   "cell_type": "code",
   "execution_count": 218,
   "metadata": {},
   "outputs": [
    {
     "data": {
      "image/png": "[encoded data removed]",
      "text/plain": [
       "<Figure size 800x600 with 2 Axes>"
      ]
     },
     "metadata": {},
     "output_type": "display_data"
    }
   ],
   "source": [
    "plt.figure(figsize=(8, 6))\n",
    "sns.heatmap(conf_matrixRF, annot=True, fmt=\"d\", cmap=\"viridis\")\n",
    "plt.title(\"Matriz de Confusión - Random Forest\")\n",
    "plt.ylabel('Actual')\n",
    "plt.xlabel('Predicho')\n",
    "plt.show()"
   ]
  },
  {
   "cell_type": "markdown",
   "metadata": {},
   "source": [
    "Curva ROC"
   ]
  },
  {
   "cell_type": "code",
   "execution_count": 219,
   "metadata": {},
   "outputs": [],
   "source": [
    "fprRF, tprRF, _ = roc_curve(y_true, probabilitiesRF)"
   ]
  },
  {
   "cell_type": "code",
   "execution_count": 220,
   "metadata": {},
   "outputs": [
    {
     "data": {
      "image/png": "[encoded data removed]",
      "text/plain": [
       "<Figure size 640x480 with 1 Axes>"
      ]
     },
     "metadata": {},
     "output_type": "display_data"
    }
   ],
   "source": [
    "plt.figure()\n",
    "plt.plot(fprRF, tprRF, color='darkorange', lw=2, label='ROC curve (area = %0.2f)' % roc_aucRF)\n",
    "plt.plot([0, 1], [0, 1], color='navy', lw=2, linestyle='--')\n",
    "plt.xlim([0.0, 1.0])\n",
    "plt.ylim([0.0, 1.05])\n",
    "plt.xlabel('False Positive Rate')\n",
    "plt.ylabel('True Positive Rate')\n",
    "plt.title('Curva ROC - Random Forest')\n",
    "plt.legend(loc=\"lower right\")\n",
    "plt.show()"
   ]
  },
  {
   "cell_type": "markdown",
   "metadata": {},
   "source": [
    "Almacenar resultados"
   ]
  },
  {
   "cell_type": "code",
   "execution_count": 221,
   "metadata": {},
   "outputs": [],
   "source": [
    "results_rf = {\n",
    "    'Modelo': 'Random Forest',\n",
    "    'AUC': roc_aucRF,\n",
    "    'Exactitud (Accuracy)': accuracyRF,\n",
    "    'Sensibilidad (Recall)': recallRF,\n",
    "    'Precisión (Precision)': precisionRF,\n",
    "    'Puntuación F1 (F1 Score)': f1RF,\n",
    "    'Coeficiente de Gini': giniRF,\n",
    "    'ROC AUC': roc_aucRF\n",
    "}"
   ]
  },
  {
   "cell_type": "markdown",
   "metadata": {},
   "source": [
    "Mostrar resultados"
   ]
  },
  {
   "cell_type": "code",
   "execution_count": 222,
   "metadata": {},
   "outputs": [
    {
     "name": "stdout",
     "output_type": "stream",
     "text": [
      "Modelo 2: Random Forest\n",
      "AUC: 0.8174603174603174\n",
      "Exactitud (Accuracy): 0.8247422680412371\n",
      "Sensibilidad (Recall): 0.8247422680412371\n",
      "Precisión (Precision): 0.8230797378134148\n",
      "Puntuación F1 (F1 Score): 0.8087091411686813\n",
      "Coeficiente de Gini: 0.6349206349206349\n",
      "ROC AUC: 0.8174603174603174\n"
     ]
    }
   ],
   "source": [
    "print(f\"Modelo 2: Random Forest\\nAUC: {roc_aucRF}\\nExactitud (Accuracy): {accuracyRF}\\nSensibilidad (Recall): {recallRF}\\nPrecisión (Precision): {precisionRF}\\nPuntuación F1 (F1 Score): {f1RF}\\nCoeficiente de Gini: {giniRF}\\nROC AUC: {roc_aucRF}\")\n"
   ]
  },
  {
   "cell_type": "markdown",
   "metadata": {},
   "source": [
    "# 🚀 8.- Modelo 3: Gradient Boosting (Machine Learning)"
   ]
  },
  {
   "cell_type": "markdown",
   "metadata": {},
   "source": [
    "Paso 1- Crear y ajustar el modelo de Gradient Boosting"
   ]
  },
  {
   "cell_type": "markdown",
   "metadata": {},
   "source": [
    "Crear el modelo de Gradient-Boosted Trees (GBT)"
   ]
  },
  {
   "cell_type": "code",
   "execution_count": 70,
   "metadata": {},
   "outputs": [],
   "source": [
    "gbt = GBTClassifier(featuresCol='feature', labelCol='Loan_Status')"
   ]
  },
  {
   "cell_type": "markdown",
   "metadata": {},
   "source": [
    "Crear la grid de hiperparámetros para Gradient Boosting"
   ]
  },
  {
   "cell_type": "code",
   "execution_count": 71,
   "metadata": {},
   "outputs": [],
   "source": [
    "paramGridGBT = ParamGridBuilder() \\\n",
    "    .addGrid(gbt.maxDepth, [5, 10, 20]) \\\n",
    "    .addGrid(gbt.maxIter, [10, 50, 100]) \\\n",
    "    .addGrid(gbt.stepSize, [0.01, 0.1, 0.3]) \\\n",
    "    .addGrid(gbt.subsamplingRate, [0.8, 1.0]) \\\n",
    "    .addGrid(gbt.minInstancesPerNode, [1, 5, 10]) \\\n",
    "    .build()"
   ]
  },
  {
   "cell_type": "markdown",
   "metadata": {},
   "source": [
    "Crear el evaluador"
   ]
  },
  {
   "cell_type": "code",
   "execution_count": 72,
   "metadata": {},
   "outputs": [],
   "source": [
    "evaluator = BinaryClassificationEvaluator(labelCol='Loan_Status')"
   ]
  },
  {
   "cell_type": "markdown",
   "metadata": {},
   "source": [
    "Crear el cross-validator para Gradient Boosting"
   ]
  },
  {
   "cell_type": "code",
   "execution_count": 73,
   "metadata": {},
   "outputs": [],
   "source": [
    "crossvalGBT = CrossValidator(estimator=gbt,\n",
    "                             estimatorParamMaps=paramGridGBT,\n",
    "                             evaluator=evaluator,\n",
    "                             numFolds=10)"
   ]
  },
  {
   "cell_type": "markdown",
   "metadata": {},
   "source": [
    "Entrenar el modelo de Gradient Boosting usando cross-validation"
   ]
  },
  {
   "cell_type": "code",
   "execution_count": 74,
   "metadata": {},
   "outputs": [],
   "source": [
    "cvModelGBT = crossvalGBT.fit(train_data)"
   ]
  },
  {
   "cell_type": "markdown",
   "metadata": {},
   "source": [
    "Tiempo espera: 932 mins"
   ]
  },
  {
   "cell_type": "markdown",
   "metadata": {},
   "source": [
    "Paso 2- Evaluar el modelo de Gradient Boosting"
   ]
  },
  {
   "cell_type": "markdown",
   "metadata": {},
   "source": [
    "Evaluar el modelo de Gradient Boosting en el conjunto de prueba"
   ]
  },
  {
   "cell_type": "code",
   "execution_count": 75,
   "metadata": {},
   "outputs": [],
   "source": [
    "predictionsGBT = cvModelGBT.transform(test_data)"
   ]
  },
  {
   "cell_type": "markdown",
   "metadata": {},
   "source": [
    "Calcular métricas adicionales"
   ]
  },
  {
   "cell_type": "code",
   "execution_count": 76,
   "metadata": {},
   "outputs": [],
   "source": [
    "evaluator_multiclass = MulticlassClassificationEvaluator(labelCol='Loan_Status', metricName='accuracy')\n",
    "accuracyGBT = evaluator_multiclass.evaluate(predictionsGBT)\n",
    "\n",
    "evaluator_precision = MulticlassClassificationEvaluator(labelCol='Loan_Status', metricName='weightedPrecision')\n",
    "precisionGBT = evaluator_precision.evaluate(predictionsGBT)\n",
    "\n",
    "evaluator_recall = MulticlassClassificationEvaluator(labelCol='Loan_Status', metricName='weightedRecall')\n",
    "recallGBT = evaluator_recall.evaluate(predictionsGBT)\n",
    "\n",
    "f1GBT = evaluator_multiclass.evaluate(predictionsGBT, {evaluator_multiclass.metricName: \"f1\"})"
   ]
  },
  {
   "cell_type": "markdown",
   "metadata": {},
   "source": [
    "Extraer las probabilidades y las etiquetas reales"
   ]
  },
  {
   "cell_type": "code",
   "execution_count": 77,
   "metadata": {},
   "outputs": [],
   "source": [
    "probabilitiesGBT = predictionsGBT.select('probability').collect()\n",
    "y_true = predictionsGBT.select('Loan_Status').collect()"
   ]
  },
  {
   "cell_type": "markdown",
   "metadata": {},
   "source": [
    "Convertir a numpy array y asegurar que tenemos la columna correcta"
   ]
  },
  {
   "cell_type": "code",
   "execution_count": 78,
   "metadata": {},
   "outputs": [],
   "source": [
    "probabilitiesGBT = np.array([prob[0][1] for prob in probabilitiesGBT])\n",
    "y_true = np.array([label[0] for label in y_true])"
   ]
  },
  {
   "cell_type": "markdown",
   "metadata": {},
   "source": [
    "Calcular AUC (ROC AUC)"
   ]
  },
  {
   "cell_type": "code",
   "execution_count": 79,
   "metadata": {},
   "outputs": [],
   "source": [
    "roc_aucGBT = evaluator.evaluate(predictionsGBT)"
   ]
  },
  {
   "cell_type": "markdown",
   "metadata": {},
   "source": [
    "Calcular Coeficiente de Gini"
   ]
  },
  {
   "cell_type": "code",
   "execution_count": 80,
   "metadata": {},
   "outputs": [],
   "source": [
    "giniGBT = 2 * roc_aucGBT - 1"
   ]
  },
  {
   "cell_type": "markdown",
   "metadata": {},
   "source": [
    "Matriz de Confusión"
   ]
  },
  {
   "cell_type": "code",
   "execution_count": 81,
   "metadata": {},
   "outputs": [],
   "source": [
    "y_pred = np.array(predictionsGBT.select('prediction').collect()).flatten()\n",
    "conf_matrixGBT = confusion_matrix(y_true, y_pred)"
   ]
  },
  {
   "cell_type": "code",
   "execution_count": 82,
   "metadata": {},
   "outputs": [
    {
     "data": {
      "image/png": "[encoded data removed]",
      "text/plain": [
       "<Figure size 800x600 with 2 Axes>"
      ]
     },
     "metadata": {},
     "output_type": "display_data"
    }
   ],
   "source": [
    "plt.figure(figsize=(8, 6))\n",
    "sns.heatmap(conf_matrixGBT, annot=True, fmt=\"d\", cmap=\"viridis\")\n",
    "plt.title(\"Matriz de Confusión - Gradient Boosting\")\n",
    "plt.ylabel('Actual')\n",
    "plt.xlabel('Predicho')\n",
    "plt.show()"
   ]
  },
  {
   "cell_type": "markdown",
   "metadata": {},
   "source": [
    "Curva ROC"
   ]
  },
  {
   "cell_type": "code",
   "execution_count": 83,
   "metadata": {},
   "outputs": [],
   "source": [
    "fprGBT, tprGBT, _ = roc_curve(y_true, probabilitiesGBT)"
   ]
  },
  {
   "cell_type": "code",
   "execution_count": 84,
   "metadata": {},
   "outputs": [
    {
     "data": {
      "image/png": "[encoded data removed]",
      "text/plain": [
       "<Figure size 640x480 with 1 Axes>"
      ]
     },
     "metadata": {},
     "output_type": "display_data"
    }
   ],
   "source": [
    "plt.figure()\n",
    "plt.plot(fprGBT, tprGBT, color='darkorange', lw=2, label='ROC curve (area = %0.2f)' % roc_aucGBT)\n",
    "plt.plot([0, 1], [0, 1], color='navy', lw=2, linestyle='--')\n",
    "plt.xlim([0.0, 1.0])\n",
    "plt.ylim([0.0, 1.05])\n",
    "plt.xlabel('False Positive Rate')\n",
    "plt.ylabel('True Positive Rate')\n",
    "plt.title('Curva ROC - Gradient Boosting')\n",
    "plt.legend(loc=\"lower right\")\n",
    "plt.show()"
   ]
  },
  {
   "cell_type": "markdown",
   "metadata": {},
   "source": [
    "Almacenar resultados"
   ]
  },
  {
   "cell_type": "code",
   "execution_count": 85,
   "metadata": {},
   "outputs": [],
   "source": [
    "results_gbt = {\n",
    "    'Modelo': 'Gradient Boosting',\n",
    "    'AUC': roc_aucGBT,\n",
    "    'Exactitud (Accuracy)': accuracyGBT,\n",
    "    'Sensibilidad (Recall)': recallGBT,\n",
    "    'Precisión (Precision)': precisionGBT,\n",
    "    'Puntuación F1 (F1 Score)': f1GBT,\n",
    "    'Coeficiente de Gini': giniGBT,\n",
    "    'ROC AUC': roc_aucGBT\n",
    "}"
   ]
  },
  {
   "cell_type": "markdown",
   "metadata": {},
   "source": [
    "Mostrar resultados"
   ]
  },
  {
   "cell_type": "code",
   "execution_count": 86,
   "metadata": {},
   "outputs": [
    {
     "name": "stdout",
     "output_type": "stream",
     "text": [
      "Modelo 3: Gradient Boosting Mejorado\n",
      "AUC: 0.8333333333333336\n",
      "Exactitud (Accuracy): 0.7938144329896907\n",
      "Sensibilidad (Recall): 0.7938144329896908\n",
      "Precisión (Precision): 0.7938144329896908\n",
      "Puntuación F1 (F1 Score): 0.7938144329896908\n",
      "Coeficiente de Gini: 0.6666666666666672\n",
      "ROC AUC: 0.8333333333333336\n"
     ]
    }
   ],
   "source": [
    "print(f\"Modelo 3: Gradient Boosting Mejorado\\nAUC: {roc_aucGBT}\\nExactitud (Accuracy): {accuracyGBT}\\nSensibilidad (Recall): {recallGBT}\\nPrecisión (Precision): {precisionGBT}\\nPuntuación F1 (F1 Score): {f1GBT}\\nCoeficiente de Gini: {giniGBT}\\nROC AUC: {roc_aucGBT}\")"
   ]
  },
  {
   "cell_type": "markdown",
   "metadata": {},
   "source": [
    "# 🔥 9.- Modelo 4: XGBoost (Machine Learning)"
   ]
  },
  {
   "cell_type": "markdown",
   "metadata": {},
   "source": [
    "Paso 1- Transformar los datos a DMatrix"
   ]
  },
  {
   "cell_type": "markdown",
   "metadata": {},
   "source": [
    "Función para transformar el DataFrame de Spark a DMatrix de XGBoost utilizando Pandas"
   ]
  },
  {
   "cell_type": "code",
   "execution_count": 88,
   "metadata": {},
   "outputs": [],
   "source": [
    "def transform_to_dmatrix(dataset):\n",
    "    # Convertir el DataFrame de Spark a un DataFrame de Pandas\n",
    "    pandas_df = dataset.toPandas()\n",
    "    \n",
    "    # Separar características y etiquetas\n",
    "    features = np.array(pandas_df['feature'].tolist())\n",
    "    labels = pandas_df['Loan_Status'].values\n",
    "    \n",
    "    # Crear el DMatrix de XGBoost\n",
    "    return xgb.DMatrix(features, label=labels), labels"
   ]
  },
  {
   "cell_type": "markdown",
   "metadata": {},
   "source": [
    "Convertir los datos de entrenamiento y prueba a DMatrix"
   ]
  },
  {
   "cell_type": "code",
   "execution_count": 89,
   "metadata": {},
   "outputs": [],
   "source": [
    "train_dmatrix, y_train_true = transform_to_dmatrix(train_data)\n",
    "test_dmatrix, y_true = transform_to_dmatrix(test_data)"
   ]
  },
  {
   "cell_type": "markdown",
   "metadata": {},
   "source": [
    "Paso 2- Crear y ajustar el modelo de XGBoost"
   ]
  },
  {
   "cell_type": "markdown",
   "metadata": {},
   "source": [
    "Definir los parámetros para XGBoost"
   ]
  },
  {
   "cell_type": "code",
   "execution_count": 90,
   "metadata": {},
   "outputs": [],
   "source": [
    "params = {\n",
    "    'objective': 'binary:logistic',\n",
    "    'max_depth': 6,\n",
    "    'eta': 0.3,\n",
    "    'subsample': 0.8,\n",
    "    'colsample_bytree': 0.8,\n",
    "    'eval_metric': 'auc'\n",
    "}"
   ]
  },
  {
   "cell_type": "markdown",
   "metadata": {},
   "source": [
    "Definir los conjuntos de validación para early stopping"
   ]
  },
  {
   "cell_type": "code",
   "execution_count": 91,
   "metadata": {},
   "outputs": [],
   "source": [
    "evals = [(train_dmatrix, 'train'), (test_dmatrix, 'eval')]"
   ]
  },
  {
   "cell_type": "markdown",
   "metadata": {},
   "source": [
    "Entrenar el modelo de XGBoost"
   ]
  },
  {
   "cell_type": "code",
   "execution_count": 92,
   "metadata": {},
   "outputs": [
    {
     "name": "stdout",
     "output_type": "stream",
     "text": [
      "[0]\ttrain-auc:0.85276\teval-auc:0.76217\n",
      "[1]\ttrain-auc:0.88458\teval-auc:0.76508\n",
      "[2]\ttrain-auc:0.89608\teval-auc:0.79444\n",
      "[3]\ttrain-auc:0.91835\teval-auc:0.79127\n",
      "[4]\ttrain-auc:0.93167\teval-auc:0.79709\n",
      "[5]\ttrain-auc:0.93415\teval-auc:0.79868\n",
      "[6]\ttrain-auc:0.94270\teval-auc:0.80688\n",
      "[7]\ttrain-auc:0.95203\teval-auc:0.81958\n",
      "[8]\ttrain-auc:0.96162\teval-auc:0.81693\n",
      "[9]\ttrain-auc:0.96711\teval-auc:0.80847\n",
      "[10]\ttrain-auc:0.97004\teval-auc:0.81376\n",
      "[11]\ttrain-auc:0.97352\teval-auc:0.80847\n",
      "[12]\ttrain-auc:0.97497\teval-auc:0.81799\n",
      "[13]\ttrain-auc:0.97557\teval-auc:0.81958\n",
      "[14]\ttrain-auc:0.98020\teval-auc:0.82063\n",
      "[15]\ttrain-auc:0.98153\teval-auc:0.82275\n",
      "[16]\ttrain-auc:0.98452\teval-auc:0.82275\n",
      "[17]\ttrain-auc:0.98791\teval-auc:0.82063\n",
      "[18]\ttrain-auc:0.98729\teval-auc:0.83333\n",
      "[19]\ttrain-auc:0.98821\teval-auc:0.83016\n",
      "[20]\ttrain-auc:0.99134\teval-auc:0.82698\n",
      "[21]\ttrain-auc:0.99353\teval-auc:0.82487\n",
      "[22]\ttrain-auc:0.99301\teval-auc:0.82116\n",
      "[23]\ttrain-auc:0.99389\teval-auc:0.81958\n",
      "[24]\ttrain-auc:0.99583\teval-auc:0.81481\n",
      "[25]\ttrain-auc:0.99609\teval-auc:0.80847\n",
      "[26]\ttrain-auc:0.99650\teval-auc:0.80423\n",
      "[27]\ttrain-auc:0.99707\teval-auc:0.80741\n",
      "[28]\ttrain-auc:0.99719\teval-auc:0.81323\n"
     ]
    }
   ],
   "source": [
    "xgb_model = xgb.train(params, train_dmatrix, num_boost_round=200, evals=evals, early_stopping_rounds=10)"
   ]
  },
  {
   "cell_type": "markdown",
   "metadata": {},
   "source": [
    "Tiempo espera: 5 seg"
   ]
  },
  {
   "cell_type": "markdown",
   "metadata": {},
   "source": [
    "Paso 3- Evaluar el modelo de XGBoost"
   ]
  },
  {
   "cell_type": "markdown",
   "metadata": {},
   "source": [
    "Predecir en el conjunto de prueba"
   ]
  },
  {
   "cell_type": "code",
   "execution_count": 93,
   "metadata": {},
   "outputs": [],
   "source": [
    "y_pred_prob = xgb_model.predict(test_dmatrix)\n",
    "y_pred = [1 if prob > 0.5 else 0 for prob in y_pred_prob]"
   ]
  },
  {
   "cell_type": "markdown",
   "metadata": {},
   "source": [
    "Las etiquetas reales ya están recolectadas como `y_true` durante la creación del DMatrix"
   ]
  },
  {
   "cell_type": "markdown",
   "metadata": {},
   "source": [
    "Calcular AUC (ROC AUC)"
   ]
  },
  {
   "cell_type": "code",
   "execution_count": 94,
   "metadata": {},
   "outputs": [],
   "source": [
    "fprXGB, tprXGB, _ = roc_curve(y_true, y_pred_prob)\n",
    "roc_aucXGB = auc(fprXGB, tprXGB)"
   ]
  },
  {
   "cell_type": "markdown",
   "metadata": {},
   "source": [
    "Calcular Coeficiente de Gini"
   ]
  },
  {
   "cell_type": "code",
   "execution_count": 95,
   "metadata": {},
   "outputs": [],
   "source": [
    "giniXGB = 2 * roc_aucXGB - 1"
   ]
  },
  {
   "cell_type": "markdown",
   "metadata": {},
   "source": [
    "Matriz de Confusión"
   ]
  },
  {
   "cell_type": "code",
   "execution_count": 96,
   "metadata": {},
   "outputs": [],
   "source": [
    "conf_matrixXGB = confusion_matrix(y_true, y_pred)"
   ]
  },
  {
   "cell_type": "code",
   "execution_count": 97,
   "metadata": {},
   "outputs": [
    {
     "data": {
      "image/png": "[encoded data removed]",
      "text/plain": [
       "<Figure size 800x600 with 2 Axes>"
      ]
     },
     "metadata": {},
     "output_type": "display_data"
    }
   ],
   "source": [
    "plt.figure(figsize=(8, 6))\n",
    "sns.heatmap(conf_matrixXGB, annot=True, fmt=\"d\", cmap=\"viridis\")\n",
    "plt.title(\"Matriz de Confusión - XGBoost Mejorado\")\n",
    "plt.ylabel('Actual')\n",
    "plt.xlabel('Predicho')\n",
    "plt.show()"
   ]
  },
  {
   "cell_type": "markdown",
   "metadata": {},
   "source": [
    "Curva ROC"
   ]
  },
  {
   "cell_type": "code",
   "execution_count": 98,
   "metadata": {},
   "outputs": [
    {
     "data": {
      "image/png": "[encoded data removed]",
      "text/plain": [
       "<Figure size 640x480 with 1 Axes>"
      ]
     },
     "metadata": {},
     "output_type": "display_data"
    }
   ],
   "source": [
    "plt.figure()\n",
    "plt.plot(fprXGB, tprXGB, color='darkorange', lw=2, label='ROC curve (area = %0.2f)' % roc_aucXGB)\n",
    "plt.plot([0, 1], [0, 1], color='navy', lw=2, linestyle='--')\n",
    "plt.xlim([0.0, 1.0])\n",
    "plt.ylim([0.0, 1.05])\n",
    "plt.xlabel('False Positive Rate')\n",
    "plt.ylabel('True Positive Rate')\n",
    "plt.title('Curva ROC - XGBoost Mejorado')\n",
    "plt.legend(loc=\"lower right\")\n",
    "plt.show()"
   ]
  },
  {
   "cell_type": "markdown",
   "metadata": {},
   "source": [
    "Calcular métricas adicionales usando sklearn"
   ]
  },
  {
   "cell_type": "code",
   "execution_count": 99,
   "metadata": {},
   "outputs": [],
   "source": [
    "accuracyXGB = accuracy_score(y_true, y_pred)\n",
    "precisionXGB = precision_score(y_true, y_pred)\n",
    "recallXGB = recall_score(y_true, y_pred)\n",
    "f1XGB = f1_score(y_true, y_pred)"
   ]
  },
  {
   "cell_type": "markdown",
   "metadata": {},
   "source": [
    "Almacenar resultados"
   ]
  },
  {
   "cell_type": "code",
   "execution_count": 100,
   "metadata": {},
   "outputs": [],
   "source": [
    "results_xgb = {\n",
    "    'Modelo': 'XGBoost Mejorado',\n",
    "    'AUC': roc_aucXGB,\n",
    "    'Exactitud (Accuracy)': accuracyXGB,\n",
    "    'Sensibilidad (Recall)': recallXGB,\n",
    "    'Precisión (Precision)': precisionXGB,\n",
    "    'Puntuación F1 (F1 Score)': f1XGB,\n",
    "    'Coeficiente de Gini': giniXGB\n",
    "}"
   ]
  },
  {
   "cell_type": "markdown",
   "metadata": {},
   "source": [
    "Mostrar resultados"
   ]
  },
  {
   "cell_type": "code",
   "execution_count": 101,
   "metadata": {},
   "outputs": [
    {
     "name": "stdout",
     "output_type": "stream",
     "text": [
      "Modelo 4: XGBoost Mejorado\n",
      "AUC: 0.8132275132275133\n",
      "Exactitud (Accuracy): 0.8247422680412371\n",
      "Sensibilidad (Recall): 0.9285714285714286\n",
      "Precisión (Precision): 0.8441558441558441\n",
      "Puntuación F1 (F1 Score): 0.8843537414965986\n",
      "Coeficiente de Gini: 0.6264550264550266\n"
     ]
    }
   ],
   "source": [
    "print(f\"Modelo 4: XGBoost Mejorado\\nAUC: {roc_aucXGB}\\nExactitud (Accuracy): {accuracyXGB}\\nSensibilidad (Recall): {recallXGB}\\nPrecisión (Precision): {precisionXGB}\\nPuntuación F1 (F1 Score): {f1XGB}\\nCoeficiente de Gini: {giniXGB}\")"
   ]
  },
  {
   "cell_type": "markdown",
   "metadata": {},
   "source": [
    "# 🧠 10. Modelo 5: Redes Neuronales Artificiales (ANN) (Deep Learning)"
   ]
  },
  {
   "cell_type": "markdown",
   "metadata": {},
   "source": [
    "Paso 1- Preparar los Datos"
   ]
  },
  {
   "cell_type": "markdown",
   "metadata": {},
   "source": [
    "Vectorizar las características (Este paso es necesario antes de escalar)"
   ]
  },
  {
   "cell_type": "code",
   "execution_count": 108,
   "metadata": {},
   "outputs": [],
   "source": [
    "assembler = VectorAssembler(inputCols=[\"feature\"], outputCol=\"features\")\n",
    "vectorized_data = assembler.transform(transformed_dataset)"
   ]
  },
  {
   "cell_type": "markdown",
   "metadata": {},
   "source": [
    "Normalizar los datos"
   ]
  },
  {
   "cell_type": "code",
   "execution_count": 109,
   "metadata": {},
   "outputs": [],
   "source": [
    "scaler = StandardScaler(inputCol=\"features\", outputCol=\"scaledFeatures\", withStd=True, withMean=False)\n",
    "scalerModel = scaler.fit(vectorized_data)\n",
    "scaled_data = scalerModel.transform(vectorized_data)"
   ]
  },
  {
   "cell_type": "markdown",
   "metadata": {},
   "source": [
    "Dividir los datos en conjuntos de entrenamiento y prueba"
   ]
  },
  {
   "cell_type": "code",
   "execution_count": 110,
   "metadata": {},
   "outputs": [],
   "source": [
    "train_data, test_data = scaled_data.randomSplit([0.8, 0.2], seed=42)"
   ]
  },
  {
   "cell_type": "markdown",
   "metadata": {},
   "source": [
    "Paso 2- Definir y entrenar el modelo"
   ]
  },
  {
   "cell_type": "markdown",
   "metadata": {},
   "source": [
    "Definir la Arquitectura de la Red"
   ]
  },
  {
   "cell_type": "code",
   "execution_count": 111,
   "metadata": {},
   "outputs": [],
   "source": [
    "layers = [22, 128, 64, 2]  # 22 entradas, dos capas ocultas (128 y 64 neuronas) y 2 salidas (para clasificación binaria)"
   ]
  },
  {
   "cell_type": "markdown",
   "metadata": {},
   "source": [
    "Inicializar el modelo de MultilayerPerceptronClassifier"
   ]
  },
  {
   "cell_type": "code",
   "execution_count": 112,
   "metadata": {},
   "outputs": [],
   "source": [
    "mlp = MultilayerPerceptronClassifier(layers=layers, featuresCol='scaledFeatures', labelCol='Loan_Status', maxIter=100)"
   ]
  },
  {
   "cell_type": "markdown",
   "metadata": {},
   "source": [
    "Crear la grid de hiperparámetros"
   ]
  },
  {
   "cell_type": "code",
   "execution_count": 113,
   "metadata": {},
   "outputs": [],
   "source": [
    "paramGridANN = ParamGridBuilder() \\\n",
    "    .addGrid(mlp.maxIter, [100, 200]) \\\n",
    "    .addGrid(mlp.stepSize, [0.01, 0.1, 0.2]) \\\n",
    "    .addGrid(mlp.tol, [1e-4, 1e-5]) \\\n",
    "    .build()"
   ]
  },
  {
   "cell_type": "markdown",
   "metadata": {},
   "source": [
    "Evaluador"
   ]
  },
  {
   "cell_type": "code",
   "execution_count": 114,
   "metadata": {},
   "outputs": [],
   "source": [
    "evaluator = BinaryClassificationEvaluator(labelCol='Loan_Status')"
   ]
  },
  {
   "cell_type": "markdown",
   "metadata": {},
   "source": [
    "CrossValidator"
   ]
  },
  {
   "cell_type": "code",
   "execution_count": 115,
   "metadata": {},
   "outputs": [],
   "source": [
    "crossvalANN = CrossValidator(estimator=mlp,\n",
    "                             estimatorParamMaps=paramGridANN,\n",
    "                             evaluator=evaluator,\n",
    "                             numFolds=5)"
   ]
  },
  {
   "cell_type": "markdown",
   "metadata": {},
   "source": [
    "Entrenar el modelo"
   ]
  },
  {
   "cell_type": "code",
   "execution_count": 116,
   "metadata": {},
   "outputs": [],
   "source": [
    "cvModelANN = crossvalANN.fit(train_data)"
   ]
  },
  {
   "cell_type": "markdown",
   "metadata": {},
   "source": [
    "Tiempo espera: 6 mins 51 seg"
   ]
  },
  {
   "cell_type": "markdown",
   "metadata": {},
   "source": [
    "Paso 3- Realizar Predicciones y Evaluar el Modelo"
   ]
  },
  {
   "cell_type": "markdown",
   "metadata": {},
   "source": [
    "Realizar predicciones en los datos de prueba"
   ]
  },
  {
   "cell_type": "code",
   "execution_count": 117,
   "metadata": {},
   "outputs": [],
   "source": [
    "predictionsANN = cvModelANN.transform(test_data)"
   ]
  },
  {
   "cell_type": "markdown",
   "metadata": {},
   "source": [
    "Obtener las etiquetas reales y predichas"
   ]
  },
  {
   "cell_type": "code",
   "execution_count": 118,
   "metadata": {},
   "outputs": [],
   "source": [
    "y_true = [row['Loan_Status'] for row in predictionsANN.select('Loan_Status').collect()]\n",
    "y_pred_prob = [row['probability'][1] for row in predictionsANN.select('probability').collect()]\n",
    "y_pred = [1 if prob > 0.5 else 0 for prob in y_pred_prob]"
   ]
  },
  {
   "cell_type": "markdown",
   "metadata": {},
   "source": [
    "Calcular AUC (ROC AUC)"
   ]
  },
  {
   "cell_type": "code",
   "execution_count": 119,
   "metadata": {},
   "outputs": [],
   "source": [
    "fprANN, tprANN, _ = roc_curve(y_true, y_pred_prob)\n",
    "roc_aucANN = auc(fprANN, tprANN)"
   ]
  },
  {
   "cell_type": "markdown",
   "metadata": {},
   "source": [
    "Calcular Coeficiente de Gini"
   ]
  },
  {
   "cell_type": "code",
   "execution_count": 120,
   "metadata": {},
   "outputs": [],
   "source": [
    "giniANN = 2 * roc_aucANN - 1"
   ]
  },
  {
   "cell_type": "markdown",
   "metadata": {},
   "source": [
    "Matriz de Confusión"
   ]
  },
  {
   "cell_type": "code",
   "execution_count": 121,
   "metadata": {},
   "outputs": [],
   "source": [
    "conf_matrixANN = confusion_matrix(y_true, y_pred)"
   ]
  },
  {
   "cell_type": "code",
   "execution_count": 122,
   "metadata": {},
   "outputs": [
    {
     "data": {
      "image/png": "[encoded data removed]",
      "text/plain": [
       "<Figure size 800x600 with 2 Axes>"
      ]
     },
     "metadata": {},
     "output_type": "display_data"
    }
   ],
   "source": [
    "plt.figure(figsize=(8, 6))\n",
    "sns.heatmap(conf_matrixANN, annot=True, fmt=\"d\", cmap=\"viridis\")\n",
    "plt.title(\"Matriz de Confusión - ANN Mejorado\")\n",
    "plt.ylabel('Actual')\n",
    "plt.xlabel('Predicho')\n",
    "plt.show()"
   ]
  },
  {
   "cell_type": "markdown",
   "metadata": {},
   "source": [
    "Curva ROC"
   ]
  },
  {
   "cell_type": "code",
   "execution_count": 123,
   "metadata": {},
   "outputs": [
    {
     "data": {
      "image/png": "[encoded data removed]",
      "text/plain": [
       "<Figure size 640x480 with 1 Axes>"
      ]
     },
     "metadata": {},
     "output_type": "display_data"
    }
   ],
   "source": [
    "plt.figure()\n",
    "plt.plot(fprANN, tprANN, color='darkorange', lw=2, label='ROC curve (area = %0.2f)' % roc_aucANN)\n",
    "plt.plot([0, 1], [0, 1], color='navy', lw=2, linestyle='--')\n",
    "plt.xlim([0.0, 1.0])\n",
    "plt.ylim([0.0, 1.05])\n",
    "plt.xlabel('False Positive Rate')\n",
    "plt.ylabel('True Positive Rate')\n",
    "plt.title('Curva ROC - ANN Mejorado')\n",
    "plt.legend(loc=\"lower right\")\n",
    "plt.show()"
   ]
  },
  {
   "cell_type": "markdown",
   "metadata": {},
   "source": [
    "Calcular métricas adicionales usando sklearn"
   ]
  },
  {
   "cell_type": "code",
   "execution_count": 124,
   "metadata": {},
   "outputs": [],
   "source": [
    "accuracyANN = accuracy_score(y_true, y_pred)\n",
    "precisionANN = precision_score(y_true, y_pred)\n",
    "recallANN = recall_score(y_true, y_pred)\n",
    "f1ANN = f1_score(y_true, y_pred)"
   ]
  },
  {
   "cell_type": "markdown",
   "metadata": {},
   "source": [
    "Almacenar resultados"
   ]
  },
  {
   "cell_type": "code",
   "execution_count": 125,
   "metadata": {},
   "outputs": [],
   "source": [
    "results_ann = {\n",
    "    'Modelo': 'ANN Mejorado',\n",
    "    'AUC': roc_aucANN,\n",
    "    'Exactitud (Accuracy)': accuracyANN,\n",
    "    'Sensibilidad (Recall)': recallANN,\n",
    "    'Precisión (Precision)': precisionANN,\n",
    "    'Puntuación F1 (F1 Score)': f1ANN,\n",
    "    'Coeficiente de Gini': giniANN\n",
    "}"
   ]
  },
  {
   "cell_type": "markdown",
   "metadata": {},
   "source": [
    "Mostrar resultados"
   ]
  },
  {
   "cell_type": "code",
   "execution_count": 126,
   "metadata": {},
   "outputs": [
    {
     "name": "stdout",
     "output_type": "stream",
     "text": [
      "Modelo 5: Red Neuronal Artificial (ANN Mejorado)\n",
      "AUC: 0.6835978835978836\n",
      "Exactitud (Accuracy): 0.7731958762886598\n",
      "Sensibilidad (Recall): 0.8571428571428571\n",
      "Precisión (Precision): 0.8333333333333334\n",
      "Puntuación F1 (F1 Score): 0.8450704225352113\n",
      "Coeficiente de Gini: 0.3671957671957673\n"
     ]
    }
   ],
   "source": [
    "print(f\"Modelo 5: Red Neuronal Artificial (ANN Mejorado)\\nAUC: {roc_aucANN}\\nExactitud (Accuracy): {accuracyANN}\\nSensibilidad (Recall): {recallANN}\\nPrecisión (Precision): {precisionANN}\\nPuntuación F1 (F1 Score): {f1ANN}\\nCoeficiente de Gini: {giniANN}\")"
   ]
  },
  {
   "cell_type": "markdown",
   "metadata": {},
   "source": [
    "# 🌌 11. Modelo 6: Redes Neuronales Profundas (DNN) (Deep Learning)"
   ]
  },
  {
   "cell_type": "markdown",
   "metadata": {},
   "source": [
    "Paso 1- Preparar los Datos"
   ]
  },
  {
   "cell_type": "markdown",
   "metadata": {},
   "source": [
    "Vectorizar las características"
   ]
  },
  {
   "cell_type": "code",
   "execution_count": 128,
   "metadata": {},
   "outputs": [],
   "source": [
    "assembler = VectorAssembler(inputCols=[\"feature\"], outputCol=\"features\")\n",
    "vectorized_data = assembler.transform(transformed_dataset)"
   ]
  },
  {
   "cell_type": "markdown",
   "metadata": {},
   "source": [
    "Normalizar las características"
   ]
  },
  {
   "cell_type": "code",
   "execution_count": 129,
   "metadata": {},
   "outputs": [],
   "source": [
    "scaler = StandardScaler(inputCol=\"features\", outputCol=\"scaledFeatures\", withStd=True, withMean=False)\n",
    "scalerModel = scaler.fit(vectorized_data)\n",
    "scaled_data = scalerModel.transform(vectorized_data)"
   ]
  },
  {
   "cell_type": "markdown",
   "metadata": {},
   "source": [
    "Dividir los datos en conjuntos de entrenamiento y prueba"
   ]
  },
  {
   "cell_type": "code",
   "execution_count": 130,
   "metadata": {},
   "outputs": [],
   "source": [
    "train_data, test_data = scaled_data.randomSplit([0.8, 0.2], seed=42)"
   ]
  },
  {
   "cell_type": "markdown",
   "metadata": {},
   "source": [
    "Paso 2- Definir y Entrenar el Modelo"
   ]
  },
  {
   "cell_type": "markdown",
   "metadata": {},
   "source": [
    "Definir la arquitectura de la red neuronal profunda"
   ]
  },
  {
   "cell_type": "code",
   "execution_count": 131,
   "metadata": {},
   "outputs": [],
   "source": [
    "layers = [22, 128, 256, 128, 64, 2]  # 22 entradas, varias capas ocultas, 2 salidas para clasificación binaria"
   ]
  },
  {
   "cell_type": "markdown",
   "metadata": {},
   "source": [
    "Inicializar el modelo de MultilayerPerceptronClassifier"
   ]
  },
  {
   "cell_type": "code",
   "execution_count": 132,
   "metadata": {},
   "outputs": [],
   "source": [
    "mlp = MultilayerPerceptronClassifier(layers=layers, featuresCol='scaledFeatures', labelCol='Loan_Status', maxIter=200)"
   ]
  },
  {
   "cell_type": "markdown",
   "metadata": {},
   "source": [
    "Crear la grid de hiperparámetros"
   ]
  },
  {
   "cell_type": "code",
   "execution_count": 133,
   "metadata": {},
   "outputs": [],
   "source": [
    "paramGridDNN = ParamGridBuilder() \\\n",
    "    .addGrid(mlp.maxIter, [200, 300]) \\\n",
    "    .addGrid(mlp.stepSize, [0.01, 0.1]) \\\n",
    "    .addGrid(mlp.blockSize, [128, 256]) \\\n",
    "    .build()"
   ]
  },
  {
   "cell_type": "markdown",
   "metadata": {},
   "source": [
    "Evaluador"
   ]
  },
  {
   "cell_type": "code",
   "execution_count": 134,
   "metadata": {},
   "outputs": [],
   "source": [
    "evaluator = BinaryClassificationEvaluator(labelCol='Loan_Status')"
   ]
  },
  {
   "cell_type": "markdown",
   "metadata": {},
   "source": [
    "CrossValidator"
   ]
  },
  {
   "cell_type": "code",
   "execution_count": 135,
   "metadata": {},
   "outputs": [],
   "source": [
    "crossvalDNN = CrossValidator(estimator=mlp,\n",
    "                             estimatorParamMaps=paramGridDNN,\n",
    "                             evaluator=evaluator,\n",
    "                             numFolds=5)"
   ]
  },
  {
   "cell_type": "markdown",
   "metadata": {},
   "source": [
    "Entrenar el modelo usando Cross-Validation"
   ]
  },
  {
   "cell_type": "code",
   "execution_count": 136,
   "metadata": {},
   "outputs": [],
   "source": [
    "cvModelDNN = crossvalDNN.fit(train_data)"
   ]
  },
  {
   "cell_type": "markdown",
   "metadata": {},
   "source": [
    "Tiempo espera: 19 mins 2 seg"
   ]
  },
  {
   "cell_type": "markdown",
   "metadata": {},
   "source": [
    "Paso 3- Realizar Predicciones y Evaluar el Modelo"
   ]
  },
  {
   "cell_type": "markdown",
   "metadata": {},
   "source": [
    "Realizar predicciones en los datos de prueba"
   ]
  },
  {
   "cell_type": "code",
   "execution_count": 137,
   "metadata": {},
   "outputs": [],
   "source": [
    "predictionsDNN = cvModelDNN.transform(test_data)"
   ]
  },
  {
   "cell_type": "markdown",
   "metadata": {},
   "source": [
    "Obtener las etiquetas reales y predichas"
   ]
  },
  {
   "cell_type": "code",
   "execution_count": 138,
   "metadata": {},
   "outputs": [],
   "source": [
    "y_true = [row['Loan_Status'] for row in predictionsDNN.select('Loan_Status').collect()]\n",
    "y_pred_prob = [row['probability'][1] for row in predictionsDNN.select('probability').collect()]\n",
    "y_pred = [1 if prob > 0.5 else 0 for prob in y_pred_prob]"
   ]
  },
  {
   "cell_type": "markdown",
   "metadata": {},
   "source": [
    "Calcular AUC (ROC AUC)"
   ]
  },
  {
   "cell_type": "code",
   "execution_count": 139,
   "metadata": {},
   "outputs": [],
   "source": [
    "fprDNN, tprDNN, _ = roc_curve(y_true, y_pred_prob)\n",
    "roc_aucDNN = auc(fprDNN, tprDNN)"
   ]
  },
  {
   "cell_type": "markdown",
   "metadata": {},
   "source": [
    "Calcular Coeficiente de Gini"
   ]
  },
  {
   "cell_type": "code",
   "execution_count": 140,
   "metadata": {},
   "outputs": [],
   "source": [
    "giniDNN = 2 * roc_aucDNN - 1"
   ]
  },
  {
   "cell_type": "markdown",
   "metadata": {},
   "source": [
    "Matriz de Confusión"
   ]
  },
  {
   "cell_type": "code",
   "execution_count": 141,
   "metadata": {},
   "outputs": [],
   "source": [
    "conf_matrixDNN = confusion_matrix(y_true, y_pred)"
   ]
  },
  {
   "cell_type": "code",
   "execution_count": 142,
   "metadata": {},
   "outputs": [
    {
     "data": {
      "image/png": "[encoded data removed]",
      "text/plain": [
       "<Figure size 800x600 with 2 Axes>"
      ]
     },
     "metadata": {},
     "output_type": "display_data"
    }
   ],
   "source": [
    "plt.figure(figsize=(8, 6))\n",
    "sns.heatmap(conf_matrixDNN, annot=True, fmt=\"d\", cmap=\"viridis\")\n",
    "plt.title(\"Matriz de Confusión - DNN Mejorado\")\n",
    "plt.ylabel('Actual')\n",
    "plt.xlabel('Predicho')\n",
    "plt.show()"
   ]
  },
  {
   "cell_type": "markdown",
   "metadata": {},
   "source": [
    "Curva ROC"
   ]
  },
  {
   "cell_type": "code",
   "execution_count": 143,
   "metadata": {},
   "outputs": [
    {
     "data": {
      "image/png": "[encoded data removed]",
      "text/plain": [
       "<Figure size 640x480 with 1 Axes>"
      ]
     },
     "metadata": {},
     "output_type": "display_data"
    }
   ],
   "source": [
    "plt.figure()\n",
    "plt.plot(fprDNN, tprDNN, color='darkorange', lw=2, label='ROC curve (area = %0.2f)' % roc_aucDNN)\n",
    "plt.plot([0, 1], [0, 1], color='navy', lw=2, linestyle='--')\n",
    "plt.xlim([0.0, 1.0])\n",
    "plt.ylim([0.0, 1.05])\n",
    "plt.xlabel('False Positive Rate')\n",
    "plt.ylabel('True Positive Rate')\n",
    "plt.title('Curva ROC - DNN Mejorado')\n",
    "plt.legend(loc=\"lower right\")\n",
    "plt.show()"
   ]
  },
  {
   "cell_type": "markdown",
   "metadata": {},
   "source": [
    "Calcular métricas adicionales usando sklearn"
   ]
  },
  {
   "cell_type": "code",
   "execution_count": 144,
   "metadata": {},
   "outputs": [],
   "source": [
    "accuracyDNN = accuracy_score(y_true, y_pred)\n",
    "precisionDNN = precision_score(y_true, y_pred)\n",
    "recallDNN = recall_score(y_true, y_pred)\n",
    "f1DNN = f1_score(y_true, y_pred)"
   ]
  },
  {
   "cell_type": "markdown",
   "metadata": {},
   "source": [
    "Almacenar resultados"
   ]
  },
  {
   "cell_type": "code",
   "execution_count": 145,
   "metadata": {},
   "outputs": [],
   "source": [
    "results_dnn = {\n",
    "    'Modelo': 'DNN Mejorado',\n",
    "    'AUC': roc_aucDNN,\n",
    "    'Exactitud (Accuracy)': accuracyDNN,\n",
    "    'Sensibilidad (Recall)': recallDNN,\n",
    "    'Precisión (Precision)': precisionDNN,\n",
    "    'Puntuación F1 (F1 Score)': f1DNN,\n",
    "    'Coeficiente de Gini': giniDNN\n",
    "}"
   ]
  },
  {
   "cell_type": "markdown",
   "metadata": {},
   "source": [
    "Mostrar resultados"
   ]
  },
  {
   "cell_type": "code",
   "execution_count": 146,
   "metadata": {},
   "outputs": [
    {
     "name": "stdout",
     "output_type": "stream",
     "text": [
      "Modelo 6: Red Neuronal Profunda (DNN Mejorado)\n",
      "AUC: 0.625925925925926\n",
      "Exactitud (Accuracy): 0.7319587628865979\n",
      "Sensibilidad (Recall): 0.8428571428571429\n",
      "Precisión (Precision): 0.7972972972972973\n",
      "Puntuación F1 (F1 Score): 0.8194444444444444\n",
      "Coeficiente de Gini: 0.251851851851852\n"
     ]
    }
   ],
   "source": [
    "print(f\"Modelo 6: Red Neuronal Profunda (DNN Mejorado)\\nAUC: {roc_aucDNN}\\nExactitud (Accuracy): {accuracyDNN}\\nSensibilidad (Recall): {recallDNN}\\nPrecisión (Precision): {precisionDNN}\\nPuntuación F1 (F1 Score): {f1DNN}\\nCoeficiente de Gini: {giniDNN}\")"
   ]
  },
  {
   "cell_type": "markdown",
   "metadata": {},
   "source": [
    "# 📜 12. Modelo 7: Redes Neuronales Recurrentes (RNN) (Deep Learning)"
   ]
  },
  {
   "cell_type": "markdown",
   "metadata": {},
   "source": [
    "Paso 1- Preparar los datos"
   ]
  },
  {
   "cell_type": "markdown",
   "metadata": {},
   "source": [
    "Vectorizar las características"
   ]
  },
  {
   "cell_type": "code",
   "execution_count": 148,
   "metadata": {},
   "outputs": [],
   "source": [
    "assembler = VectorAssembler(inputCols=[\"feature\"], outputCol=\"features\")\n",
    "vectorized_data = assembler.transform(transformed_dataset)"
   ]
  },
  {
   "cell_type": "markdown",
   "metadata": {},
   "source": [
    "Normalizar las características"
   ]
  },
  {
   "cell_type": "code",
   "execution_count": 149,
   "metadata": {},
   "outputs": [],
   "source": [
    "scaler = StandardScaler(inputCol=\"features\", outputCol=\"scaledFeatures\", withStd=True, withMean=False)\n",
    "scalerModel = scaler.fit(vectorized_data)\n",
    "scaled_data = scalerModel.transform(vectorized_data)"
   ]
  },
  {
   "cell_type": "markdown",
   "metadata": {},
   "source": [
    "Dividir los datos en conjuntos de entrenamiento y prueba"
   ]
  },
  {
   "cell_type": "code",
   "execution_count": 150,
   "metadata": {},
   "outputs": [],
   "source": [
    "train_data, test_data = scaled_data.randomSplit([0.8, 0.2], seed=42)"
   ]
  },
  {
   "cell_type": "markdown",
   "metadata": {},
   "source": [
    "Paso 2- Definir y Entrenar el modelo"
   ]
  },
  {
   "cell_type": "markdown",
   "metadata": {},
   "source": [
    "Definir la arquitectura simulada de la RNN"
   ]
  },
  {
   "cell_type": "code",
   "execution_count": 151,
   "metadata": {},
   "outputs": [],
   "source": [
    "layers = [22, 128, 128, 128, 64, 2]  # 22 entradas, múltiples capas intermedias simulando una RNN, 2 salidas"
   ]
  },
  {
   "cell_type": "markdown",
   "metadata": {},
   "source": [
    "Inicializar el modelo de MultilayerPerceptronClassifier"
   ]
  },
  {
   "cell_type": "code",
   "execution_count": 152,
   "metadata": {},
   "outputs": [],
   "source": [
    "mlp = MultilayerPerceptronClassifier(layers=layers, featuresCol='scaledFeatures', labelCol='Loan_Status', maxIter=200)"
   ]
  },
  {
   "cell_type": "markdown",
   "metadata": {},
   "source": [
    "Crear la grid de hiperparámetros"
   ]
  },
  {
   "cell_type": "code",
   "execution_count": 153,
   "metadata": {},
   "outputs": [],
   "source": [
    "paramGridRNN = ParamGridBuilder() \\\n",
    "    .addGrid(mlp.maxIter, [200, 300]) \\\n",
    "    .addGrid(mlp.stepSize, [0.01, 0.1]) \\\n",
    "    .addGrid(mlp.blockSize, [128, 256]) \\\n",
    "    .build()"
   ]
  },
  {
   "cell_type": "markdown",
   "metadata": {},
   "source": [
    "Evaluador"
   ]
  },
  {
   "cell_type": "code",
   "execution_count": 154,
   "metadata": {},
   "outputs": [],
   "source": [
    "evaluator = BinaryClassificationEvaluator(labelCol='Loan_Status')"
   ]
  },
  {
   "cell_type": "markdown",
   "metadata": {},
   "source": [
    "CrossValidator"
   ]
  },
  {
   "cell_type": "code",
   "execution_count": 155,
   "metadata": {},
   "outputs": [],
   "source": [
    "crossvalRNN = CrossValidator(estimator=mlp,\n",
    "                             estimatorParamMaps=paramGridRNN,\n",
    "                             evaluator=evaluator,\n",
    "                             numFolds=5)"
   ]
  },
  {
   "cell_type": "markdown",
   "metadata": {},
   "source": [
    "Entrenar el modelo usando Cross-Validation"
   ]
  },
  {
   "cell_type": "code",
   "execution_count": 156,
   "metadata": {},
   "outputs": [],
   "source": [
    "cvModelRNN = crossvalRNN.fit(train_data)"
   ]
  },
  {
   "cell_type": "markdown",
   "metadata": {},
   "source": [
    "Tiempo de espera: 13 mins 7 seg"
   ]
  },
  {
   "cell_type": "markdown",
   "metadata": {},
   "source": [
    "Paso 3- Realizar Predicciones y Evaluar el Modelo"
   ]
  },
  {
   "cell_type": "markdown",
   "metadata": {},
   "source": [
    "Realizar predicciones en los datos de prueba"
   ]
  },
  {
   "cell_type": "code",
   "execution_count": 157,
   "metadata": {},
   "outputs": [],
   "source": [
    "predictionsRNN = cvModelRNN.transform(test_data)"
   ]
  },
  {
   "cell_type": "markdown",
   "metadata": {},
   "source": [
    "Obtener las etiquetas reales y predichas"
   ]
  },
  {
   "cell_type": "code",
   "execution_count": 158,
   "metadata": {},
   "outputs": [],
   "source": [
    "y_true = [row['Loan_Status'] for row in predictionsRNN.select('Loan_Status').collect()]\n",
    "y_pred_prob = [row['probability'][1] for row in predictionsRNN.select('probability').collect()]\n",
    "y_pred = [1 if prob > 0.5 else 0 for prob in y_pred_prob]"
   ]
  },
  {
   "cell_type": "markdown",
   "metadata": {},
   "source": [
    "Calcular AUC (ROC AUC)"
   ]
  },
  {
   "cell_type": "code",
   "execution_count": 159,
   "metadata": {},
   "outputs": [],
   "source": [
    "fprRNN, tprRNN, _ = roc_curve(y_true, y_pred_prob)\n",
    "roc_aucRNN = auc(fprRNN, tprRNN)"
   ]
  },
  {
   "cell_type": "markdown",
   "metadata": {},
   "source": [
    "Calcular Coeficiente de Gini"
   ]
  },
  {
   "cell_type": "code",
   "execution_count": 160,
   "metadata": {},
   "outputs": [],
   "source": [
    "giniRNN = 2 * roc_aucRNN - 1"
   ]
  },
  {
   "cell_type": "markdown",
   "metadata": {},
   "source": [
    "Matriz de Confusión"
   ]
  },
  {
   "cell_type": "code",
   "execution_count": 161,
   "metadata": {},
   "outputs": [],
   "source": [
    "conf_matrixRNN = confusion_matrix(y_true, y_pred)"
   ]
  },
  {
   "cell_type": "code",
   "execution_count": 162,
   "metadata": {},
   "outputs": [
    {
     "data": {
      "image/png": "[encoded data removed]",
      "text/plain": [
       "<Figure size 800x600 with 2 Axes>"
      ]
     },
     "metadata": {},
     "output_type": "display_data"
    }
   ],
   "source": [
    "plt.figure(figsize=(8, 6))\n",
    "sns.heatmap(conf_matrixRNN, annot=True, fmt=\"d\", cmap=\"viridis\")\n",
    "plt.title(\"Matriz de Confusión - RNN Mejorado\")\n",
    "plt.ylabel('Actual')\n",
    "plt.xlabel('Predicho')\n",
    "plt.show()"
   ]
  },
  {
   "cell_type": "markdown",
   "metadata": {},
   "source": [
    "Curva ROC"
   ]
  },
  {
   "cell_type": "code",
   "execution_count": 163,
   "metadata": {},
   "outputs": [
    {
     "data": {
      "image/png": "[encoded data removed]",
      "text/plain": [
       "<Figure size 640x480 with 1 Axes>"
      ]
     },
     "metadata": {},
     "output_type": "display_data"
    }
   ],
   "source": [
    "plt.figure()\n",
    "plt.plot(fprRNN, tprRNN, color='darkorange', lw=2, label='ROC curve (area = %0.2f)' % roc_aucRNN)\n",
    "plt.plot([0, 1], [0, 1], color='navy', lw=2, linestyle='--')\n",
    "plt.xlim([0.0, 1.0])\n",
    "plt.ylim([0.0, 1.05])\n",
    "plt.xlabel('False Positive Rate')\n",
    "plt.ylabel('True Positive Rate')\n",
    "plt.title('Curva ROC - RNN Mejorado')\n",
    "plt.legend(loc=\"lower right\")\n",
    "plt.show()"
   ]
  },
  {
   "cell_type": "markdown",
   "metadata": {},
   "source": [
    "Calcular métricas adicionales usando sklearn"
   ]
  },
  {
   "cell_type": "code",
   "execution_count": 164,
   "metadata": {},
   "outputs": [],
   "source": [
    "accuracyRNN = accuracy_score(y_true, y_pred)\n",
    "precisionRNN = precision_score(y_true, y_pred)\n",
    "recallRNN = recall_score(y_true, y_pred)\n",
    "f1RNN = f1_score(y_true, y_pred)"
   ]
  },
  {
   "cell_type": "markdown",
   "metadata": {},
   "source": [
    "Almacenar resultados"
   ]
  },
  {
   "cell_type": "code",
   "execution_count": 165,
   "metadata": {},
   "outputs": [],
   "source": [
    "results_rnn = {\n",
    "    'Modelo': 'RNN Mejorado',\n",
    "    'AUC': roc_aucRNN,\n",
    "    'Exactitud (Accuracy)': accuracyRNN,\n",
    "    'Sensibilidad (Recall)': recallRNN,\n",
    "    'Precisión (Precision)': precisionRNN,\n",
    "    'Puntuación F1 (F1 Score)': f1RNN,\n",
    "    'Coeficiente de Gini': giniRNN\n",
    "}"
   ]
  },
  {
   "cell_type": "markdown",
   "metadata": {},
   "source": [
    "Mostrar resultados"
   ]
  },
  {
   "cell_type": "code",
   "execution_count": 166,
   "metadata": {},
   "outputs": [
    {
     "name": "stdout",
     "output_type": "stream",
     "text": [
      "Modelo 7: Red Neuronal Recurrente (RNN Mejorado)\n",
      "AUC: 0.7206349206349206\n",
      "Exactitud (Accuracy): 0.7938144329896907\n",
      "Sensibilidad (Recall): 0.9\n",
      "Precisión (Precision): 0.8289473684210527\n",
      "Puntuación F1 (F1 Score): 0.863013698630137\n",
      "Coeficiente de Gini: 0.44126984126984126\n"
     ]
    }
   ],
   "source": [
    "print(f\"Modelo 7: Red Neuronal Recurrente (RNN Mejorado)\\nAUC: {roc_aucRNN}\\nExactitud (Accuracy): {accuracyRNN}\\nSensibilidad (Recall): {recallRNN}\\nPrecisión (Precision): {precisionRNN}\\nPuntuación F1 (F1 Score): {f1RNN}\\nCoeficiente de Gini: {giniRNN}\")"
   ]
  },
  {
   "cell_type": "markdown",
   "metadata": {},
   "source": [
    "# 🌐 13. Modelo 8: Redes Neuronales Convolucionales (CNN) (Deep Learning)"
   ]
  },
  {
   "cell_type": "markdown",
   "metadata": {},
   "source": [
    "Paso 1- Preparar los datos"
   ]
  },
  {
   "cell_type": "markdown",
   "metadata": {},
   "source": [
    "Vectorizar las características"
   ]
  },
  {
   "cell_type": "code",
   "execution_count": 168,
   "metadata": {},
   "outputs": [],
   "source": [
    "assembler = VectorAssembler(inputCols=[\"feature\"], outputCol=\"features\")\n",
    "vectorized_data = assembler.transform(transformed_dataset)"
   ]
  },
  {
   "cell_type": "markdown",
   "metadata": {},
   "source": [
    "Normalizar las características"
   ]
  },
  {
   "cell_type": "code",
   "execution_count": 169,
   "metadata": {},
   "outputs": [],
   "source": [
    "scaler = StandardScaler(inputCol=\"features\", outputCol=\"scaledFeatures\", withStd=True, withMean=False)\n",
    "scalerModel = scaler.fit(vectorized_data)\n",
    "scaled_data = scalerModel.transform(vectorized_data)"
   ]
  },
  {
   "cell_type": "markdown",
   "metadata": {},
   "source": [
    "Dividir los datos en conjuntos de entrenamiento y prueba"
   ]
  },
  {
   "cell_type": "code",
   "execution_count": 170,
   "metadata": {},
   "outputs": [],
   "source": [
    "train_data, test_data = scaled_data.randomSplit([0.8, 0.2], seed=42)"
   ]
  },
  {
   "cell_type": "markdown",
   "metadata": {},
   "source": [
    "Paso 2- Definir y Entrenar el Modelo"
   ]
  },
  {
   "cell_type": "markdown",
   "metadata": {},
   "source": [
    "Definir la arquitectura simulada de la CNN"
   ]
  },
  {
   "cell_type": "code",
   "execution_count": 171,
   "metadata": {},
   "outputs": [],
   "source": [
    "layers = [22, 256, 128, 64, 2]  # 22 entradas, múltiples capas densas para simular la CNN, 2 salidas"
   ]
  },
  {
   "cell_type": "markdown",
   "metadata": {},
   "source": [
    "Inicializar el modelo de MultilayerPerceptronClassifier"
   ]
  },
  {
   "cell_type": "code",
   "execution_count": 172,
   "metadata": {},
   "outputs": [],
   "source": [
    "mlp = MultilayerPerceptronClassifier(layers=layers, featuresCol='scaledFeatures', labelCol='Loan_Status', maxIter=200)"
   ]
  },
  {
   "cell_type": "markdown",
   "metadata": {},
   "source": [
    "Crear la grid de hiperparámetros"
   ]
  },
  {
   "cell_type": "code",
   "execution_count": 173,
   "metadata": {},
   "outputs": [],
   "source": [
    "paramGridCNN = ParamGridBuilder() \\\n",
    "    .addGrid(mlp.maxIter, [200, 300]) \\\n",
    "    .addGrid(mlp.stepSize, [0.01, 0.1]) \\\n",
    "    .addGrid(mlp.blockSize, [128, 256]) \\\n",
    "    .build()"
   ]
  },
  {
   "cell_type": "markdown",
   "metadata": {},
   "source": [
    "Evaluador"
   ]
  },
  {
   "cell_type": "code",
   "execution_count": 174,
   "metadata": {},
   "outputs": [],
   "source": [
    "evaluator = BinaryClassificationEvaluator(labelCol='Loan_Status')"
   ]
  },
  {
   "cell_type": "markdown",
   "metadata": {},
   "source": [
    "CrossValidator"
   ]
  },
  {
   "cell_type": "code",
   "execution_count": 175,
   "metadata": {},
   "outputs": [],
   "source": [
    "crossvalCNN = CrossValidator(estimator=mlp,\n",
    "                             estimatorParamMaps=paramGridCNN,\n",
    "                             evaluator=evaluator,\n",
    "                             numFolds=5)"
   ]
  },
  {
   "cell_type": "markdown",
   "metadata": {},
   "source": [
    "Entrenar el modelo usando Cross-Validation"
   ]
  },
  {
   "cell_type": "code",
   "execution_count": 176,
   "metadata": {},
   "outputs": [],
   "source": [
    "cvModelCNN = crossvalCNN.fit(train_data)"
   ]
  },
  {
   "cell_type": "markdown",
   "metadata": {},
   "source": [
    "Tiempo de espera: 13 mins"
   ]
  },
  {
   "cell_type": "markdown",
   "metadata": {},
   "source": [
    "Paso 3- Realizar Predicciones y Evaluar el Modelo"
   ]
  },
  {
   "cell_type": "markdown",
   "metadata": {},
   "source": [
    "Realizar predicciones en los datos de prueba"
   ]
  },
  {
   "cell_type": "code",
   "execution_count": 177,
   "metadata": {},
   "outputs": [],
   "source": [
    "predictionsCNN = cvModelCNN.transform(test_data)"
   ]
  },
  {
   "cell_type": "markdown",
   "metadata": {},
   "source": [
    "Obtener las etiquetas reales y predichas"
   ]
  },
  {
   "cell_type": "code",
   "execution_count": 178,
   "metadata": {},
   "outputs": [],
   "source": [
    "y_true = [row['Loan_Status'] for row in predictionsCNN.select('Loan_Status').collect()]\n",
    "y_pred_prob = [row['probability'][1] for row in predictionsCNN.select('probability').collect()]\n",
    "y_pred = [1 if prob > 0.5 else 0 for prob in y_pred_prob]"
   ]
  },
  {
   "cell_type": "markdown",
   "metadata": {},
   "source": [
    "Calcular AUC (ROC AUC)"
   ]
  },
  {
   "cell_type": "code",
   "execution_count": 179,
   "metadata": {},
   "outputs": [],
   "source": [
    "fprCNN, tprCNN, _ = roc_curve(y_true, y_pred_prob)\n",
    "roc_aucCNN = auc(fprCNN, tprCNN)"
   ]
  },
  {
   "cell_type": "markdown",
   "metadata": {},
   "source": [
    "Calcular Coeficiente de Gini"
   ]
  },
  {
   "cell_type": "code",
   "execution_count": 180,
   "metadata": {},
   "outputs": [],
   "source": [
    "giniCNN = 2 * roc_aucCNN - 1"
   ]
  },
  {
   "cell_type": "markdown",
   "metadata": {},
   "source": [
    "Matriz de Confusión"
   ]
  },
  {
   "cell_type": "code",
   "execution_count": 181,
   "metadata": {},
   "outputs": [],
   "source": [
    "conf_matrixCNN = confusion_matrix(y_true, y_pred)"
   ]
  },
  {
   "cell_type": "code",
   "execution_count": 182,
   "metadata": {},
   "outputs": [
    {
     "data": {
      "image/png": "[encoded data removed]",
      "text/plain": [
       "<Figure size 800x600 with 2 Axes>"
      ]
     },
     "metadata": {},
     "output_type": "display_data"
    }
   ],
   "source": [
    "plt.figure(figsize=(8, 6))\n",
    "sns.heatmap(conf_matrixCNN, annot=True, fmt=\"d\", cmap=\"viridis\")\n",
    "plt.title(\"Matriz de Confusión - CNN Mejorado\")\n",
    "plt.ylabel('Actual')\n",
    "plt.xlabel('Predicho')\n",
    "plt.show()"
   ]
  },
  {
   "cell_type": "markdown",
   "metadata": {},
   "source": [
    "Curva ROC"
   ]
  },
  {
   "cell_type": "code",
   "execution_count": 183,
   "metadata": {},
   "outputs": [
    {
     "data": {
      "image/png": "[encoded data removed]",
      "text/plain": [
       "<Figure size 640x480 with 1 Axes>"
      ]
     },
     "metadata": {},
     "output_type": "display_data"
    }
   ],
   "source": [
    "plt.figure()\n",
    "plt.plot(fprCNN, tprCNN, color='darkorange', lw=2, label='ROC curve (area = %0.2f)' % roc_aucCNN)\n",
    "plt.plot([0, 1], [0, 1], color='navy', lw=2, linestyle='--')\n",
    "plt.xlim([0.0, 1.0])\n",
    "plt.ylim([0.0, 1.05])\n",
    "plt.xlabel('False Positive Rate')\n",
    "plt.ylabel('True Positive Rate')\n",
    "plt.title('Curva ROC - CNN Mejorado')\n",
    "plt.legend(loc=\"lower right\")\n",
    "plt.show()"
   ]
  },
  {
   "cell_type": "markdown",
   "metadata": {},
   "source": [
    "Calcular métricas adicionales usando sklearn"
   ]
  },
  {
   "cell_type": "code",
   "execution_count": 184,
   "metadata": {},
   "outputs": [],
   "source": [
    "accuracyCNN = accuracy_score(y_true, y_pred)\n",
    "precisionCNN = precision_score(y_true, y_pred)\n",
    "recallCNN = recall_score(y_true, y_pred)\n",
    "f1CNN = f1_score(y_true, y_pred)"
   ]
  },
  {
   "cell_type": "markdown",
   "metadata": {},
   "source": [
    "Almacenar resultados"
   ]
  },
  {
   "cell_type": "code",
   "execution_count": 185,
   "metadata": {},
   "outputs": [],
   "source": [
    "results_cnn = {\n",
    "    'Modelo': 'CNN Mejorado',\n",
    "    'AUC': roc_aucCNN,\n",
    "    'Exactitud (Accuracy)': accuracyCNN,\n",
    "    'Sensibilidad (Recall)': recallCNN,\n",
    "    'Precisión (Precision)': precisionCNN,\n",
    "    'Puntuación F1 (F1 Score)': f1CNN,\n",
    "    'Coeficiente de Gini': giniCNN\n",
    "}"
   ]
  },
  {
   "cell_type": "markdown",
   "metadata": {},
   "source": [
    "Mostrar resultados"
   ]
  },
  {
   "cell_type": "code",
   "execution_count": 186,
   "metadata": {},
   "outputs": [
    {
     "name": "stdout",
     "output_type": "stream",
     "text": [
      "Modelo 8: Red Neuronal Convolucional (CNN Mejorado)\n",
      "AUC: 0.719047619047619\n",
      "Exactitud (Accuracy): 0.7422680412371134\n",
      "Sensibilidad (Recall): 0.8285714285714286\n",
      "Precisión (Precision): 0.8169014084507042\n",
      "Puntuación F1 (F1 Score): 0.8226950354609929\n",
      "Coeficiente de Gini: 0.4380952380952381\n"
     ]
    }
   ],
   "source": [
    "print(f\"Modelo 8: Red Neuronal Convolucional (CNN Mejorado)\\nAUC: {roc_aucCNN}\\nExactitud (Accuracy): {accuracyCNN}\\nSensibilidad (Recall): {recallCNN}\\nPrecisión (Precision): {precisionCNN}\\nPuntuación F1 (F1 Score): {f1CNN}\\nCoeficiente de Gini: {giniCNN}\")"
   ]
  },
  {
   "cell_type": "markdown",
   "metadata": {},
   "source": [
    "# 📊 14.- Comparacion de modelos"
   ]
  },
  {
   "cell_type": "code",
   "execution_count": 226,
   "metadata": {},
   "outputs": [],
   "source": [
    "results_comparison = {\n",
    "    'Modelo': [\n",
    "        'Modelo 1: Regresión Logística',\n",
    "        'Modelo 2: Random Forest',\n",
    "        'Modelo 3: Gradient Boosting',\n",
    "        'Modelo 4: XGBoost',\n",
    "        'Modelo 5: ANN',\n",
    "        'Modelo 6: DNN',\n",
    "        'Modelo 7: RNN',\n",
    "        'Modelo 8: CNN'\n",
    "    ],\n",
    "    'AUC': [\n",
    "        roc_aucLR,\n",
    "        roc_aucRF,\n",
    "        roc_aucGBT,\n",
    "        roc_aucXGB,\n",
    "        roc_aucANN,\n",
    "        roc_aucDNN,\n",
    "        roc_aucRNN,\n",
    "        roc_aucCNN\n",
    "    ],\n",
    "    'Exactitud (Accuracy)': [\n",
    "        accuracyLR,\n",
    "        accuracyRF,\n",
    "        accuracyGBT,\n",
    "        accuracyXGB,\n",
    "        accuracyANN,\n",
    "        accuracyDNN,\n",
    "        accuracyRNN,\n",
    "        accuracyCNN\n",
    "    ],\n",
    "    'Sensibilidad (Recall)': [\n",
    "        recallLR,\n",
    "        recallRF,\n",
    "        recallGBT,\n",
    "        recallXGB,\n",
    "        recallANN,\n",
    "        recallDNN,\n",
    "        recallRNN,\n",
    "        recallCNN\n",
    "    ],\n",
    "    'Precisión (Precision)': [\n",
    "        precisionLR,\n",
    "        precisionRF,\n",
    "        precisionGBT,\n",
    "        precisionXGB,\n",
    "        precisionANN,\n",
    "        precisionDNN,\n",
    "        precisionRNN,\n",
    "        precisionCNN\n",
    "    ],\n",
    "    'F1 Score': [\n",
    "        f1LR,\n",
    "        f1RF,\n",
    "        f1GBT,\n",
    "        f1XGB,\n",
    "        f1ANN,\n",
    "        f1DNN,\n",
    "        f1RNN,\n",
    "        f1CNN\n",
    "    ],\n",
    "    'Coeficiente de Gini': [\n",
    "        giniLR,\n",
    "        giniRF,\n",
    "        giniGBT,\n",
    "        giniXGB,\n",
    "        giniANN,\n",
    "        giniDNN,\n",
    "        giniRNN,\n",
    "        giniCNN\n",
    "    ]\n",
    "}"
   ]
  },
  {
   "cell_type": "markdown",
   "metadata": {},
   "source": [
    "Tabla Resultados"
   ]
  },
  {
   "cell_type": "code",
   "execution_count": 227,
   "metadata": {},
   "outputs": [
    {
     "data": {
      "text/html": [
       "<div>\n",
       "<style scoped>\n",
       "    .dataframe tbody tr th:only-of-type {\n",
       "        vertical-align: middle;\n",
       "    }\n",
       "\n",
       "    .dataframe tbody tr th {\n",
       "        vertical-align: top;\n",
       "    }\n",
       "\n",
       "    .dataframe thead th {\n",
       "        text-align: right;\n",
       "    }\n",
       "</style>\n",
       "<table border=\"1\" class=\"dataframe\">\n",
       "  <thead>\n",
       "    <tr style=\"text-align: right;\">\n",
       "      <th></th>\n",
       "      <th>Modelo</th>\n",
       "      <th>AUC</th>\n",
       "      <th>Exactitud (Accuracy)</th>\n",
       "      <th>Sensibilidad (Recall)</th>\n",
       "      <th>Precisión (Precision)</th>\n",
       "      <th>F1 Score</th>\n",
       "      <th>Coeficiente de Gini</th>\n",
       "    </tr>\n",
       "  </thead>\n",
       "  <tbody>\n",
       "    <tr>\n",
       "      <th>0</th>\n",
       "      <td>Modelo 1: Regresión Logística</td>\n",
       "      <td>0.787302</td>\n",
       "      <td>0.835052</td>\n",
       "      <td>0.835052</td>\n",
       "      <td>0.865740</td>\n",
       "      <td>0.808784</td>\n",
       "      <td>0.574603</td>\n",
       "    </tr>\n",
       "    <tr>\n",
       "      <th>1</th>\n",
       "      <td>Modelo 2: Random Forest</td>\n",
       "      <td>0.817460</td>\n",
       "      <td>0.824742</td>\n",
       "      <td>0.824742</td>\n",
       "      <td>0.823080</td>\n",
       "      <td>0.808709</td>\n",
       "      <td>0.634921</td>\n",
       "    </tr>\n",
       "    <tr>\n",
       "      <th>2</th>\n",
       "      <td>Modelo 3: Gradient Boosting</td>\n",
       "      <td>0.833333</td>\n",
       "      <td>0.793814</td>\n",
       "      <td>0.793814</td>\n",
       "      <td>0.793814</td>\n",
       "      <td>0.793814</td>\n",
       "      <td>0.666667</td>\n",
       "    </tr>\n",
       "    <tr>\n",
       "      <th>3</th>\n",
       "      <td>Modelo 4: XGBoost</td>\n",
       "      <td>0.813228</td>\n",
       "      <td>0.824742</td>\n",
       "      <td>0.928571</td>\n",
       "      <td>0.844156</td>\n",
       "      <td>0.884354</td>\n",
       "      <td>0.626455</td>\n",
       "    </tr>\n",
       "    <tr>\n",
       "      <th>4</th>\n",
       "      <td>Modelo 5: ANN</td>\n",
       "      <td>0.683598</td>\n",
       "      <td>0.773196</td>\n",
       "      <td>0.857143</td>\n",
       "      <td>0.833333</td>\n",
       "      <td>0.845070</td>\n",
       "      <td>0.367196</td>\n",
       "    </tr>\n",
       "    <tr>\n",
       "      <th>5</th>\n",
       "      <td>Modelo 6: DNN</td>\n",
       "      <td>0.625926</td>\n",
       "      <td>0.731959</td>\n",
       "      <td>0.842857</td>\n",
       "      <td>0.797297</td>\n",
       "      <td>0.819444</td>\n",
       "      <td>0.251852</td>\n",
       "    </tr>\n",
       "    <tr>\n",
       "      <th>6</th>\n",
       "      <td>Modelo 7: RNN</td>\n",
       "      <td>0.720635</td>\n",
       "      <td>0.793814</td>\n",
       "      <td>0.900000</td>\n",
       "      <td>0.828947</td>\n",
       "      <td>0.863014</td>\n",
       "      <td>0.441270</td>\n",
       "    </tr>\n",
       "    <tr>\n",
       "      <th>7</th>\n",
       "      <td>Modelo 8: CNN</td>\n",
       "      <td>0.719048</td>\n",
       "      <td>0.742268</td>\n",
       "      <td>0.828571</td>\n",
       "      <td>0.816901</td>\n",
       "      <td>0.822695</td>\n",
       "      <td>0.438095</td>\n",
       "    </tr>\n",
       "  </tbody>\n",
       "</table>\n",
       "</div>"
      ],
      "text/plain": [
       "                          Modelo       AUC  Exactitud (Accuracy)  \\\n",
       "0  Modelo 1: Regresión Logística  0.787302              0.835052   \n",
       "1        Modelo 2: Random Forest  0.817460              0.824742   \n",
       "2    Modelo 3: Gradient Boosting  0.833333              0.793814   \n",
       "3              Modelo 4: XGBoost  0.813228              0.824742   \n",
       "4                  Modelo 5: ANN  0.683598              0.773196   \n",
       "5                  Modelo 6: DNN  0.625926              0.731959   \n",
       "6                  Modelo 7: RNN  0.720635              0.793814   \n",
       "7                  Modelo 8: CNN  0.719048              0.742268   \n",
       "\n",
       "   Sensibilidad (Recall)  Precisión (Precision)  F1 Score  Coeficiente de Gini  \n",
       "0               0.835052               0.865740  0.808784             0.574603  \n",
       "1               0.824742               0.823080  0.808709             0.634921  \n",
       "2               0.793814               0.793814  0.793814             0.666667  \n",
       "3               0.928571               0.844156  0.884354             0.626455  \n",
       "4               0.857143               0.833333  0.845070             0.367196  \n",
       "5               0.842857               0.797297  0.819444             0.251852  \n",
       "6               0.900000               0.828947  0.863014             0.441270  \n",
       "7               0.828571               0.816901  0.822695             0.438095  "
      ]
     },
     "execution_count": 227,
     "metadata": {},
     "output_type": "execute_result"
    }
   ],
   "source": [
    "results_df = pd.DataFrame(results_comparison)\n",
    "results_df"
   ]
  },
  {
   "cell_type": "markdown",
   "metadata": {},
   "source": [
    "## Observaciones"
   ]
  },
  {
   "cell_type": "markdown",
   "metadata": {},
   "source": [
    "1- AUC:\n",
    "\n",
    "- El modelo de Gradient Boosting (Modelo 3) presenta el AUC más alto (0.833), lo que indica que es el mejor modelo en términos de capacidad para distinguir entre clases.\n",
    "- Random Forest (Modelo 2) y XGBoost (Modelo 4) también tienen un AUC elevado, mostrando un buen rendimiento.\n",
    "- Los modelos de redes neuronales (ANN, DNN, RNN, CNN) presentan AUC más bajos, especialmente el modelo DNN y CNN, lo que podría indicar una menor capacidad de generalización en comparación con los modelos basados en árboles.\n",
    "\n",
    "2- Exactitud (Accuracy):\n",
    "\n",
    "- Regresión Logística (Modelo 1) tiene la mayor exactitud (0.835), seguido de cerca por Random Forest (Modelo 2) y XGBoost (Modelo 4).\n",
    "- La exactitud más baja se observa en DNN (Modelo 6) y CNN (Modelo 8), lo que sugiere que estos modelos pueden no estar bien ajustados a los datos.\n",
    "\n",
    "3- Sensibilidad (Recall):\n",
    "\n",
    "- XGBoost (Modelo 4) y RNN (Modelo 7) tienen la mayor sensibilidad, lo que significa que son mejores en la detección de la clase positiva (préstamos aprobados).\n",
    "- Modelos como Gradient Boosting (Modelo 3) y DNN (Modelo 6) muestran una sensibilidad menor, lo que podría ser preocupante si el objetivo es minimizar los falsos negativos.\n",
    "\n",
    "4- Precisión (Precision):\n",
    "\n",
    "- Regresión Logística (Modelo 1) y XGBoost (Modelo 4) muestran una alta precisión, indicando una buena capacidad para reducir los falsos positivos.\n",
    "- DNN (Modelo 6) y CNN (Modelo 8) tienen una precisión más baja, lo que podría indicar una tendencia a clasificar incorrectamente los préstamos no aprobados como aprobados.\n",
    "\n",
    "5- F1 Score:\n",
    "\n",
    "- XGBoost (Modelo 4) tiene el F1 Score más alto, lo que sugiere un buen equilibrio entre precisión y sensibilidad.\n",
    "- Los modelos Gradient Boosting (Modelo 3) y Random Forest (Modelo 2) también tienen buenos F1 Scores.\n",
    "- Los modelos basados en redes neuronales presentan F1 Scores más bajos, particularmente DNN (Modelo 6) y CNN (Modelo 8).\n",
    "\n",
    "6- Coeficiente de Gini:\n",
    "\n",
    "- El Gradient Boosting (Modelo 3) tiene el coeficiente de Gini más alto (0.667), seguido por Random Forest (Modelo 2), lo que respalda su superioridad en la discriminación entre clases.\n",
    "- Los modelos basados en redes neuronales presentan coeficientes de Gini más bajos, lo que refuerza la observación de que estos modelos no son los mejores para este conjunto de datos."
   ]
  },
  {
   "cell_type": "markdown",
   "metadata": {},
   "source": [
    "## Conclusiones"
   ]
  },
  {
   "cell_type": "markdown",
   "metadata": {},
   "source": [
    "- Gradient Boosting (Modelo 3) y XGBoost (Modelo 4) destacan como los mejores modelos en términos de rendimiento global, especialmente en términos de AUC, F1 Score, y coeficiente de Gini. Estos modelos serían recomendables para implementar si el objetivo es maximizar la capacidad predictiva del modelo.\n",
    "\n",
    "- Regresión Logística (Modelo 1) también se desempeña bien, especialmente en precisión y exactitud, lo que lo hace una opción viable si se prefiere un modelo más sencillo y fácilmente interpretable.\n",
    "\n",
    "- Los modelos basados en Redes Neuronales (ANN, DNN, RNN, CNN) no se desempeñan tan bien en este conjunto de datos, sugiriendo que podrían no ser la mejor opción para este problema específico de clasificación de préstamos."
   ]
  },
  {
   "cell_type": "markdown",
   "metadata": {},
   "source": [
    "## Recomendaciones"
   ]
  },
  {
   "cell_type": "markdown",
   "metadata": {},
   "source": [
    "1- Ajuste de Hiperparámetros: Aunque se ha realizado un tuning básico de los hiperparámetros utilizando ParamGridBuilder y CrossValidator, explorar una gama más amplia de hiperparámetros, o incluso implementar técnicas como la búsqueda en malla (Grid Search) o la optimización bayesiana, podría ayudar a encontrar configuraciones de hiperparámetros que mejoren el rendimiento de los modelos.\n",
    "\n",
    "2- Aumento de Datos (Data Augmentation): Para modelos de Deep Learning, el aumento de datos podría ser útil, especialmente si los datos disponibles son limitados. Técnicas como el oversampling de la clase minoritaria, la generación sintética de datos utilizando SMOTE, o incluso la generación de nuevas instancias podrían mejorar la capacidad del modelo para generalizar.\n",
    "\n",
    "3- Implementación de Modelos Ensamblados: Experimentar con la combinación de múltiples modelos (ensamblaje) como Stacking, Bagging o Boosting puede aprovechar las fortalezas de diferentes algoritmos para mejorar el rendimiento global del sistema de predicción.\n",
    "\n",
    "4- Mayor Profundización en Deep Learning: Para los modelos de Deep Learning (ANN, DNN, RNN, CNN), ajustar la arquitectura de las redes, incluyendo la profundidad (número de capas), la cantidad de neuronas por capa, las funciones de activación, o la tasa de aprendizaje, podría mejorar significativamente su rendimiento. También, técnicas como el Dropout y la Batch Normalization pueden ayudar a reducir el sobreajuste y mejorar la convergencia del modelo.\n",
    "\n",
    "5- Incorporación de Características Derivadas (Feature Engineering): La creación de nuevas características derivadas de las existentes, utilizando técnicas de Feature Engineering, podría ayudar a mejorar la precisión del modelo. Además, la eliminación de características redundantes o irrelevantes podría simplificar el modelo y mejorar su rendimiento.\n",
    "\n",
    "6- Evaluación en Conjuntos de Datos Adicionales: Evaluar los modelos en diferentes conjuntos de datos o en escenarios de validación cruzada más complejos (por ejemplo, k-fold cross-validation con más divisiones) podría proporcionar una mejor comprensión de su capacidad de generalización.\n",
    "\n",
    "7- Pruebas con Modelos Avanzados de Deep Learning: Si los recursos lo permiten, considerar la implementación de modelos más avanzados de Deep Learning, como Transformers o modelos Generative Adversarial Networks (GANs), podría ser una interesante área de exploración, particularmente si se dispone de un conjunto de datos más grande o más variado."
   ]
  }
 ],
 "metadata": {
  "kernelspec": {
   "display_name": "Python 3",
   "language": "python",
   "name": "python3"
  },
  "language_info": {
   "codemirror_mode": {
    "name": "ipython",
    "version": 3
   },
   "file_extension": ".py",
   "mimetype": "text/x-python",
   "name": "python",
   "nbconvert_exporter": "python",
   "pygments_lexer": "ipython3",
   "version": "3.12.1"
  }
 },
 "nbformat": 4,
 "nbformat_minor": 2
}
